{
 "cells": [
  {
   "cell_type": "code",
   "execution_count": 1,
   "metadata": {},
   "outputs": [
    {
     "name": "stderr",
     "output_type": "stream",
     "text": [
      "Ignoring wrong pointing object 6 0 (offset 0)\n",
      "Ignoring wrong pointing object 8 0 (offset 0)\n",
      "Ignoring wrong pointing object 10 0 (offset 0)\n",
      "Ignoring wrong pointing object 15 0 (offset 0)\n",
      "Ignoring wrong pointing object 17 0 (offset 0)\n",
      "Ignoring wrong pointing object 19 0 (offset 0)\n",
      "Ignoring wrong pointing object 21 0 (offset 0)\n",
      "Ignoring wrong pointing object 23 0 (offset 0)\n"
     ]
    },
    {
     "data": {
      "text/plain": [
       "'                                                                                             R     AMI            I.    I  BRAHIMI\\n                      San Francisco               , C   A    94158        • (4    1 5  ) 8  0  6 -5906        • riibrahimi@gmail.com                            • linkedin.com/in/rami                        -ibrahimi\\n E DUCATION\\n                                   University of Virginia Darden School of Business                                                                                                                           Charlottesville, VA\\n                                   Candidate for Master of Business Administration, May 2019\\n                                   •        GMAT: 720\\n                                   •        Darden Foundation Scholarship\\n                                   •        Clubs:         Consulting,             Technology, Finance, Adam Smith Society                                               , and      S  occer\\n                                   University of Jordan                                                                                                                                                             Amman,              Jordan\\n                                   Bachelor of Science in                        Mechatronics Engineering, Jan 2013\\n                                   •        Volunteer l            ecturer for Assembly & Microprocessors and De                                                    sign of Embedded Systems                               classes\\n E XPERIENCE\\n201    8 -Present                  Google LLC\\n                                   Product           Operations              T/   Program Manager                         –   Phones (          2019      -Present         )                                Mountain View, CA\\n                                   •        Managed oversees third party team of data scientists to deliver machine learning predictive models\\n                                            for return rates &                  manufacturing                 cell qualification resulting in reduction of 15% in qualification costs\\n                                   •        Created and executed new process for management                                                         of OpEx product costs                         in tandem with cross                     -\\n                                            regional team resulting in                           $3.5 million and $7                     million        in savings for              Pixel       2020 and            Pixel      20   21\\n                                   •        Drove product                 headcount             resource management for                             8 Pixel devices from                      concept through end of life\\n                                   •        Manage          d non       -device        costs for Wearables business unit                                   totaling $150 million                      a nnually\\n                                   •        Led early engagement                          Product investigation and feature definition                                           for a new segment Pixel device\\n                                   Hardware, Product Operations MBA Intern                                                    –   Phones           (Summer 2018)                                            Mountain              View, CA\\n                                   •        Designed and implemented                                new       process         for Inventory Management Forum                                       for    n  ext   -gen flagship\\n                                            Pixel phones               resulting in complete                      automation              of the process and                   80% reduction in                    work load\\n                                   •        Established             standard          Key Part Release and Master Production S                                             chedule          model and             input       templates\\n                                   •        Completely r              evamped            Clear to Build                management                process          leading to           strategic         SKU       -level visibility\\n2013     -2017                     Phil     ip Morris International\\n                                   Operations Planning Analyst                                  (201     5  -2017)                                                                                                      Izmir, Turkey\\n                                   •        Selected out of                50 candidates for leadership development assignment to the Turkish affiliate, the\\n                                            cluster head for EEMA region                                  and the largest CPG in Turkey\\n                                   •        Directed          cross      -functional            domestic and international                            project team              in successful resolution of a\\n                                            defective company                     -wide data            mining         and reporting tool                   in support of 40 production line operations\\n                                            representing              annual volume of                    70 b     illion sticks\\n                                   •        Led cross functional effort across five                                      team      s to successfully launch                        the first        product export project\\n                                            for    23 new products                   across        eight      new African markets                        representing 15%                     of annual          volume\\n                                   •        Supervised             the operations team for                         the    revamp          of    seven       strategic products including Marlboro and\\n                                            L&M          brands        achieving            100% hit rate for in                   -ma     rket   -sales timeline                requirement             s\\n                                   Process Engineer (2014                           -2015)                                                                                                                          Amman, Jordan\\n                                   •        Led two           five    -person teams on two production facility operations improvement projects setting                                                                                   four\\n                                            new all        -time       records and achieving                       recognition for two                     key      performance indicators\\n                                   •        Initiated         factory inventory management                                  and categorization                    process         for    spare parts and raw materials\\n                                            resulting          in the reduction                local spare parts inventory                           by    $1 million representing                         40%       of total\\n                                            inventory          ; received Philip Morris International Above and                                                   Beyond          the    Ca    ll of Duty award\\n                                   Electrical Maintenance Engineer (2013                                             -2014)                                                                                         Amman, Jordan\\n                                   •        D   esign     ed    and install          ed    of track and trace weight measurement system\\n A DDITIONAL               INFORMATION\\n                                   •        Dual       Citizenship: United States & Jordan\\n                                   •        Bilingual proficiency in English and Arabic,                                              and basic proficiency                       in Turkish\\n                                   •        Soccer midfielder                    &    m   ountain biker             , int   erested in          post     -classical          history and            O   xford       U  nion      debate       s\\n                                   •        PEARSON certified Smartphone developer\\n                                   •        Accidentally appeared in the background of a romantic scene of a Turkish Soap Opera'"
      ]
     },
     "execution_count": 1,
     "metadata": {},
     "output_type": "execute_result"
    }
   ],
   "source": [
    "import utils\n",
    "\n",
    "file_path = \"base_folder/Resumes/Ibrahimi_Rami_120722.pdf\"\n",
    "pdf_text = utils.read_pdf(file_path)\n",
    "pdf_text"
   ]
  },
  {
   "cell_type": "code",
   "execution_count": null,
   "metadata": {},
   "outputs": [
    {
     "name": "stderr",
     "output_type": "stream",
     "text": [
      "Ignoring wrong pointing object 6 0 (offset 0)\n",
      "Ignoring wrong pointing object 8 0 (offset 0)\n",
      "Ignoring wrong pointing object 10 0 (offset 0)\n",
      "Ignoring wrong pointing object 15 0 (offset 0)\n",
      "Ignoring wrong pointing object 17 0 (offset 0)\n",
      "Ignoring wrong pointing object 19 0 (offset 0)\n",
      "Ignoring wrong pointing object 21 0 (offset 0)\n",
      "Ignoring wrong pointing object 23 0 (offset 0)\n"
     ]
    },
    {
     "data": {
      "text/plain": [
       "'       RAMI I. IBRAHIMI\\n San Francisco, CA 94158 • (415) 806-5906 • riibrahimi@gmail.com • linkedin.com/in/rami-ibrahimi\\n\\n EDUCATION\\n  University of Virginia Darden School of Business Charlottesville, VA\\n  Candidate for Master of Business Administration, May 2019\\n  • GMAT: 720\\n  • Darden Foundation Scholarship\\n  • Clubs: Consulting, Technology, Finance, Adam Smith Society, and Soccer\\n\\n  University of Jordan Amman, Jordan\\n  Bachelor of Science in Mechatronics Engineering, Jan 2013\\n  • Volunteer lecturer for Assembly & Microprocessors and Design of Embedded Systems classes\\n\\n EXPERIENCE\\n2018-Present Google LLC\\n  Product Operations T/ Program Manager – Phones (2019-Present)  Mountain View, CA\\n  • Managed oversees third party team of data scientists to deliver machine learning predictive models\\n   for return rates & manufacturing cell qualification resulting in reduction of 15% in qualification costs\\n  • Created and executed new process for management of OpEx product costs in tandem with cross-\\n   regional team resulting in $3.5 million and $7 million in savings for Pixel 2020 and Pixel 2021\\n  • Drove product headcount resource management for 8 Pixel devices from concept through end of life\\n  • Managed non-device costs for Wearables business unit totaling $150 million annually\\n  • Led early engagement Product investigation and feature definition for a new segment Pixel device\\n\\n  Hardware, Product Operations MBA Intern – Phones (Summer 2018)  Mountain View, CA\\n  • Designed and implemented new process for Inventory Management Forum for next-gen flagship\\n   Pixel phones resulting in complete automation of the process and 80% reduction in work load\\n  • Established standard Key Part Release and Master Production Schedule model and input templates\\n  • Completely revamped Clear to Build management process leading to strategic SKU-level visibility\\n\\n2013-2017 Philip Morris International\\n  Operations Planning Analyst (2015-2017)  Izmir, Turkey\\n  • Selected out of 50 candidates for leadership development assignment to the Turkish affiliate, the\\n   cluster head for EEMA region and the largest CPG in Turkey\\n  • Directed cross-functional domestic and international project team in successful resolution of a\\n   defective company-wide data mining and reporting tool in support of 40 production line operations\\n   representing annual volume of 70 billion sticks\\n  • Led cross functional effort across five teams to successfully launch the first product export project\\n   for 23 new products across eight new African markets representing 15% of annual volume\\n  • Supervised the operations team for the revamp of seven strategic products including Marlboro and\\n   L&M brands achieving 100% hit rate for in-market-sales timeline requirements\\n\\n  Process Engineer (2014-2015)  Amman, Jordan\\n  • Led two five-person teams on two production facility operations improvement projects setting four\\n   new all-time records and achieving recognition for two key performance indicators\\n  • Initiated factory inventory management and categorization process for spare parts and raw materials\\n   resulting in the reduction local spare parts inventory by $1 million representing 40% of total\\n   inventory; received Philip Morris International Above and Beyond the Call of Duty award\\n\\n  Electrical Maintenance Engineer (2013-2014)  Amman, Jordan\\n  • Designed and installed of track and trace weight measurement system\\n\\n ADDITIONAL INFORMATION\\n  • Dual Citizenship: United States & Jordan\\n  • Bilingual proficiency in English and Arabic, and basic proficiency in Turkish\\n  • Soccer midfielder & mountain biker, interested in post-classical history and Oxford Union debates\\n  • PEARSON certified Smartphone developer\\n  • Accidentally appeared in the background of a romantic scene of a Turkish Soap Opera'"
      ]
     },
     "execution_count": 11,
     "metadata": {},
     "output_type": "execute_result"
    }
   ],
   "source": [
    "# file_path = \"base_folder/Resumes/Ibrahimi_Rami_120722.pdf\"\n",
    "file_path = \"base_folder/Resumes/Ibrahimi_Rami.pdf\"\n",
    "import pypdf\n",
    "\n",
    "\n",
    "def read_pdf(file_path):\n",
    "    \"\"\"Extracts text from a PDF file using PyPDF2, returns string content.\"\"\"\n",
    "    text = []\n",
    "    with open(file_path, \"rb\") as f:\n",
    "        reader = pypdf.PdfReader(f)\n",
    "        for page in reader.pages:\n",
    "            page_text = page.extract_text(\n",
    "                extraction_mode=\"layout\", layout_mode_scale_weight=0.1\n",
    "            )\n",
    "            if page_text:\n",
    "                text.append(page_text)\n",
    "    return \"\\n\".join(text)\n",
    "\n",
    "\n",
    "pdf_text2 = read_pdf(file_path)\n",
    "pdf_text2"
   ]
  },
  {
   "cell_type": "code",
   "execution_count": 12,
   "metadata": {},
   "outputs": [
    {
     "name": "stdout",
     "output_type": "stream",
     "text": [
      "0: RAMI I. IBRAHIMI\n",
      "1: San Francisco, CA 94158 • (415) 806-5906 • riibrahimi@gmail.com • linkedin.com/in/rami-ibrahimi\n",
      "2: EDUCATION\n",
      "3: University of Virginia Darden School of Business Charlottesville, VA\n",
      "4: Candidate for Master of Business Administration, May 2019\n",
      "5: • GMAT: 720\n",
      "6: • Darden Foundation Scholarship\n",
      "7: • Clubs: Consulting, Technology, Finance, Adam Smith Society, and Soccer\n",
      "8: University of Jordan Amman, Jordan\n",
      "9: Bachelor of Science in Mechatronics Engineering, Jan 2013\n",
      "10: • Volunteer lecturer for Assembly & Microprocessors and Design of Embedded Systems classes\n",
      "11: EXPERIENCE\n",
      "12: 2018-Present Google LLC\n",
      "13: Product Operations T/ Program Manager – Phones (2019-Present) Mountain View, CA\n",
      "14: • Managed oversees third party team of data scientists to deliver machine learning predictive models\n",
      "15: for return rates & manufacturing cell qualification resulting in reduction of 15% in qualification costs\n",
      "16: • Created and executed new process for management of OpEx product costs in tandem with cross-\n",
      "17: regional team resulting in $3.5 million and $7 million in savings for Pixel 2020 and Pixel 2021\n",
      "18: • Drove product headcount resource management for 8 Pixel devices from concept through end of life\n",
      "19: • Managed non-device costs for Wearables business unit totaling $150 million annually\n",
      "20: • Led early engagement Product investigation and feature definition for a new segment Pixel device\n",
      "21: Hardware, Product Operations MBA Intern – Phones (Summer 2018) Mountain View, CA\n",
      "22: • Designed and implemented new process for Inventory Management Forum for next-gen flagship\n",
      "23: Pixel phones resulting in complete automation of the process and 80% reduction in work load\n",
      "24: • Established standard Key Part Release and Master Production Schedule model and input templates\n",
      "25: • Completely revamped Clear to Build management process leading to strategic SKU-level visibility\n",
      "26: 2013-2017 Philip Morris International\n",
      "27: Operations Planning Analyst (2015-2017) Izmir, Turkey\n",
      "28: • Selected out of 50 candidates for leadership development assignment to the Turkish affiliate, the\n",
      "29: cluster head for EEMA region and the largest CPG in Turkey\n",
      "30: • Directed cross-functional domestic and international project team in successful resolution of a\n",
      "31: defective company-wide data mining and reporting tool in support of 40 production line operations\n",
      "32: representing annual volume of 70 billion sticks\n",
      "33: • Led cross functional effort across five teams to successfully launch the first product export project\n",
      "34: for 23 new products across eight new African markets representing 15% of annual volume\n",
      "35: • Supervised the operations team for the revamp of seven strategic products including Marlboro and\n",
      "36: L&M brands achieving 100% hit rate for in-market-sales timeline requirements\n",
      "37: Process Engineer (2014-2015) Amman, Jordan\n",
      "38: • Led two five-person teams on two production facility operations improvement projects setting four\n",
      "39: new all-time records and achieving recognition for two key performance indicators\n",
      "40: • Initiated factory inventory management and categorization process for spare parts and raw materials\n",
      "41: resulting in the reduction local spare parts inventory by $1 million representing 40% of total\n",
      "42: inventory; received Philip Morris International Above and Beyond the Call of Duty award\n",
      "43: Electrical Maintenance Engineer (2013-2014) Amman, Jordan\n",
      "44: • Designed and installed of track and trace weight measurement system\n",
      "45: ADDITIONAL INFORMATION\n",
      "46: • Dual Citizenship: United States & Jordan\n",
      "47: • Bilingual proficiency in English and Arabic, and basic proficiency in Turkish\n",
      "48: • Soccer midfielder & mountain biker, interested in post-classical history and Oxford Union debates\n",
      "49: • PEARSON certified Smartphone developer\n",
      "50: • Accidentally appeared in the background of a romantic scene of a Turkish Soap Opera\n"
     ]
    }
   ],
   "source": [
    "from chunking import chunk_sections\n",
    "\n",
    "lines = chunk_sections.parse_into_lines(pdf_text2)\n",
    "for i, line in enumerate(lines):\n",
    "    print(f\"{i}: {line}\")"
   ]
  },
  {
   "cell_type": "code",
   "execution_count": null,
   "metadata": {},
   "outputs": [],
   "source": []
  }
 ],
 "metadata": {
  "kernelspec": {
   "display_name": ".venv",
   "language": "python",
   "name": "python3"
  },
  "language_info": {
   "codemirror_mode": {
    "name": "ipython",
    "version": 3
   },
   "file_extension": ".py",
   "mimetype": "text/x-python",
   "name": "python",
   "nbconvert_exporter": "python",
   "pygments_lexer": "ipython3",
   "version": "3.12.2"
  }
 },
 "nbformat": 4,
 "nbformat_minor": 2
}
