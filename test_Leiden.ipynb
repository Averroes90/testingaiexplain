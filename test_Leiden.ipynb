{
 "cells": [
  {
   "cell_type": "code",
   "execution_count": 1,
   "metadata": {},
   "outputs": [],
   "source": [
    "# import debugpy\n",
    "\n",
    "# # Start the debugger on a specific port (5678)\n",
    "# debugpy.listen((\"localhost\", 5678))\n",
    "# print(\"Debugger is listening... Attach VS Code debugger now!\")\n",
    "\n",
    "# # Wait for VS Code to connect before running any code\n",
    "# debugpy.wait_for_client()\n",
    "# print(\"Debugger attached! Now you can run your function.\")"
   ]
  },
  {
   "cell_type": "code",
   "execution_count": 2,
   "metadata": {},
   "outputs": [
    {
     "data": {
      "text/html": [
       "<div>\n",
       "<style scoped>\n",
       "    .dataframe tbody tr th:only-of-type {\n",
       "        vertical-align: middle;\n",
       "    }\n",
       "\n",
       "    .dataframe tbody tr th {\n",
       "        vertical-align: top;\n",
       "    }\n",
       "\n",
       "    .dataframe thead th {\n",
       "        text-align: right;\n",
       "    }\n",
       "</style>\n",
       "<table border=\"1\" class=\"dataframe\">\n",
       "  <thead>\n",
       "    <tr style=\"text-align: right;\">\n",
       "      <th></th>\n",
       "      <th>id</th>\n",
       "      <th>content</th>\n",
       "      <th>doc_type</th>\n",
       "      <th>created_date</th>\n",
       "    </tr>\n",
       "  </thead>\n",
       "  <tbody>\n",
       "    <tr>\n",
       "      <th>0</th>\n",
       "      <td>Rami,_Darden_E1.docx</td>\n",
       "      <td>Shortly after my transition to the process eng...</td>\n",
       "      <td>Essays</td>\n",
       "      <td>2025-03-04</td>\n",
       "    </tr>\n",
       "    <tr>\n",
       "      <th>1</th>\n",
       "      <td>Rami_Ibrahimi_Fuqua_Essay_2.pdf</td>\n",
       "      <td>Given my somewhat unusual personal and profess...</td>\n",
       "      <td>Essays</td>\n",
       "      <td>2025-03-04</td>\n",
       "    </tr>\n",
       "    <tr>\n",
       "      <th>2</th>\n",
       "      <td>Rami_Ibrahimi_Fuqua25.pdf</td>\n",
       "      <td>\\n1- I was born in Jordan  and raised in Jord...</td>\n",
       "      <td>Essays</td>\n",
       "      <td>2025-03-04</td>\n",
       "    </tr>\n",
       "    <tr>\n",
       "      <th>3</th>\n",
       "      <td>Rami,_Darden_Misc2.docx</td>\n",
       "      <td>What is your short-term, post-MBA career goal ...</td>\n",
       "      <td>Essays</td>\n",
       "      <td>2025-03-04</td>\n",
       "    </tr>\n",
       "    <tr>\n",
       "      <th>4</th>\n",
       "      <td>Rami,_Darden_Misc.docx</td>\n",
       "      <td>College Extracurriculars and Employment – 200 ...</td>\n",
       "      <td>Essays</td>\n",
       "      <td>2025-03-04</td>\n",
       "    </tr>\n",
       "    <tr>\n",
       "      <th>5</th>\n",
       "      <td>Rami_Ibrahimi_Fuqua_Optional_Essay.pdf</td>\n",
       "      <td>College was without doubt the roughest time in...</td>\n",
       "      <td>Essays</td>\n",
       "      <td>2025-03-04</td>\n",
       "    </tr>\n",
       "    <tr>\n",
       "      <th>6</th>\n",
       "      <td>Rami,_Darden_optional_Essay.docx</td>\n",
       "      <td>Shortly after beginning my undergraduate study...</td>\n",
       "      <td>Essays</td>\n",
       "      <td>2025-03-04</td>\n",
       "    </tr>\n",
       "    <tr>\n",
       "      <th>7</th>\n",
       "      <td>Ibrahimi_Rami_CL_Master_Card.pdf</td>\n",
       "      <td>Dear Hiring Team at Mastercard,\\nI am thrilled...</td>\n",
       "      <td>Coverletters</td>\n",
       "      <td>2025-03-04</td>\n",
       "    </tr>\n",
       "    <tr>\n",
       "      <th>8</th>\n",
       "      <td>Ibrahimi_Rami_CL_Microsoft.pdf</td>\n",
       "      <td>Dear Hiring Team,\\nI’m excited to apply for th...</td>\n",
       "      <td>Coverletters</td>\n",
       "      <td>2025-03-04</td>\n",
       "    </tr>\n",
       "    <tr>\n",
       "      <th>9</th>\n",
       "      <td>Ibrahimi_Rami_Del.pdf</td>\n",
       "      <td>Dear Hiring Team,\\nI am excited to apply for t...</td>\n",
       "      <td>Coverletters</td>\n",
       "      <td>2025-03-04</td>\n",
       "    </tr>\n",
       "    <tr>\n",
       "      <th>10</th>\n",
       "      <td>Ibrahimi_Rami_CL_Roblox.pdf</td>\n",
       "      <td>Dear Hiring Team at Roblox,\\nI am excited to a...</td>\n",
       "      <td>Coverletters</td>\n",
       "      <td>2025-03-04</td>\n",
       "    </tr>\n",
       "    <tr>\n",
       "      <th>11</th>\n",
       "      <td>Ibrahimi_Rami_McKinsey.pdf</td>\n",
       "      <td>RAMI I. IBRAHIMI  \\n2101 Arlington Blvd. #433 ...</td>\n",
       "      <td>Coverletters</td>\n",
       "      <td>2025-03-04</td>\n",
       "    </tr>\n",
       "    <tr>\n",
       "      <th>12</th>\n",
       "      <td>Ibrahimi_Rami_CL_UBS.pdf</td>\n",
       "      <td>Dear Hiring Team at UBS,\\nI am excited to appl...</td>\n",
       "      <td>Coverletters</td>\n",
       "      <td>2025-03-04</td>\n",
       "    </tr>\n",
       "    <tr>\n",
       "      <th>13</th>\n",
       "      <td>Ibrahimi_Rami.docx</td>\n",
       "      <td>Rami I. Ibrahimi\\nCharlottesville, VA 22903  (...</td>\n",
       "      <td>Resumes</td>\n",
       "      <td>2025-03-04</td>\n",
       "    </tr>\n",
       "    <tr>\n",
       "      <th>14</th>\n",
       "      <td>Ibrahimi_Rami.pdf</td>\n",
       "      <td>RAMI I. IBRAHIMI San Francisco, CA • (415) 806...</td>\n",
       "      <td>Resumes</td>\n",
       "      <td>2025-03-04</td>\n",
       "    </tr>\n",
       "  </tbody>\n",
       "</table>\n",
       "</div>"
      ],
      "text/plain": [
       "                                        id  \\\n",
       "0                     Rami,_Darden_E1.docx   \n",
       "1          Rami_Ibrahimi_Fuqua_Essay_2.pdf   \n",
       "2                Rami_Ibrahimi_Fuqua25.pdf   \n",
       "3                  Rami,_Darden_Misc2.docx   \n",
       "4                   Rami,_Darden_Misc.docx   \n",
       "5   Rami_Ibrahimi_Fuqua_Optional_Essay.pdf   \n",
       "6         Rami,_Darden_optional_Essay.docx   \n",
       "7         Ibrahimi_Rami_CL_Master_Card.pdf   \n",
       "8           Ibrahimi_Rami_CL_Microsoft.pdf   \n",
       "9                    Ibrahimi_Rami_Del.pdf   \n",
       "10             Ibrahimi_Rami_CL_Roblox.pdf   \n",
       "11              Ibrahimi_Rami_McKinsey.pdf   \n",
       "12                Ibrahimi_Rami_CL_UBS.pdf   \n",
       "13                      Ibrahimi_Rami.docx   \n",
       "14                       Ibrahimi_Rami.pdf   \n",
       "\n",
       "                                              content      doc_type  \\\n",
       "0   Shortly after my transition to the process eng...        Essays   \n",
       "1   Given my somewhat unusual personal and profess...        Essays   \n",
       "2    \\n1- I was born in Jordan  and raised in Jord...        Essays   \n",
       "3   What is your short-term, post-MBA career goal ...        Essays   \n",
       "4   College Extracurriculars and Employment – 200 ...        Essays   \n",
       "5   College was without doubt the roughest time in...        Essays   \n",
       "6   Shortly after beginning my undergraduate study...        Essays   \n",
       "7   Dear Hiring Team at Mastercard,\\nI am thrilled...  Coverletters   \n",
       "8   Dear Hiring Team,\\nI’m excited to apply for th...  Coverletters   \n",
       "9   Dear Hiring Team,\\nI am excited to apply for t...  Coverletters   \n",
       "10  Dear Hiring Team at Roblox,\\nI am excited to a...  Coverletters   \n",
       "11  RAMI I. IBRAHIMI  \\n2101 Arlington Blvd. #433 ...  Coverletters   \n",
       "12  Dear Hiring Team at UBS,\\nI am excited to appl...  Coverletters   \n",
       "13  Rami I. Ibrahimi\\nCharlottesville, VA 22903  (...       Resumes   \n",
       "14  RAMI I. IBRAHIMI San Francisco, CA • (415) 806...       Resumes   \n",
       "\n",
       "   created_date  \n",
       "0    2025-03-04  \n",
       "1    2025-03-04  \n",
       "2    2025-03-04  \n",
       "3    2025-03-04  \n",
       "4    2025-03-04  \n",
       "5    2025-03-04  \n",
       "6    2025-03-04  \n",
       "7    2025-03-04  \n",
       "8    2025-03-04  \n",
       "9    2025-03-04  \n",
       "10   2025-03-04  \n",
       "11   2025-03-04  \n",
       "12   2025-03-04  \n",
       "13   2025-03-04  \n",
       "14   2025-03-04  "
      ]
     },
     "execution_count": 2,
     "metadata": {},
     "output_type": "execute_result"
    }
   ],
   "source": [
    "import pandas as pd\n",
    "import nlp_utils\n",
    "\n",
    "data_url = \"my_corpus.csv\"\n",
    "data_df = pd.read_csv(data_url)\n",
    "data_df"
   ]
  },
  {
   "cell_type": "code",
   "execution_count": 3,
   "metadata": {},
   "outputs": [
    {
     "data": {
      "text/plain": [
       "'Shortly after my transition to the process engineer position with Philip Morris, I was charged with leading a make-shift team composed of machine operators, senior maintenance engineers and technicians for the purpose of improving one of our underperforming key performance indicators; tobacco waste. \\nI began by working on identifying the major loss contributors and areas for improvement and creating an action plan with targets for the next three months.  Over the course of the subsequent weekly team meetings I started perceiving that some of the team members were more concerned about their routine tasks and not fully invested in the project and were not completing their assigned tasks. To address this shortcoming, I redistributed the tasks across the team members who were more active participants and myself. We struggled to keep up, especially given technical knowledge gaps in some areas. \\nAt the end of the month after lots of hard work the new results came in, to my disappointment there was no significant improvement. Shortly thereafter, my supervisor called me for a meeting to discuss the progress and results. He asked about the latest updates and commended all the extra efforts and commitment we have been putting in. He then proceeded to criticize of my leadership approach. Hi highlighted my inability to get all the team members fully engaged in the project as a major weakness. He said that my career progress thus far was due to my analytical rigor and hard skills and what he perceived to be as a potential for growth and explained that in order to progress further I have to address this inadequacy. Finally he noted his expectation for better results for the following month and offered to coach me throughout.\\nAs I received the first negative feedback in my career, I battled feelings of hopelessness and ineptitude. And for the rest of the day, I just sat at my desk to reflect on what had transpired.\\nThe following morning, I woke up determined to change my mind set. After difficult challenge of fully accepting an embracing the criticism, it just seemed clear to me what I needed to do. I set weekly meeting with my manager for coaching and performance review. I subsequently signed up for a couple of internal trainings on leadership and assertiveness. \\nI held individual meetings with each for the project team members, I thanked them for their contributions and discussed the unsatisfactory results with them. After I asked them for individual feedback, I made sure to covey my respect and appreciation for their immense experience and sonority and politely shared my concern over their lack of engagement. I then proceeded to explain the financial implications of our increased tobacco waste in order to convey a more relatable picture of the gravity of the situation. On the following team meeting I threw my originally individually developed action plan and worked with the team to create a new one with individual targets for each member.\\nAfter slightly improved results in the following month I made sure to recognize individual achievements in the presence of senior management. As we all picked up the pace we were finally able to hit an all-time affiliate record for tobacco yield.\\nI can hardly articulate the sense of pride and accomplishment I felt after having overcome my first serious professional obstacle. This experience was in fact what first triggered for my interest to pursue MBA education.'"
      ]
     },
     "execution_count": 3,
     "metadata": {},
     "output_type": "execute_result"
    }
   ],
   "source": [
    "first_cell = data_df.loc[0, \"content\"]\n",
    "first_cell"
   ]
  },
  {
   "cell_type": "code",
   "execution_count": 4,
   "metadata": {},
   "outputs": [
    {
     "data": {
      "text/plain": [
       "['Shortly after my transition to the process engineer position with Philip Morris, I was charged with leading a make-shift team composed of machine operators, senior maintenance engineers and technicians for the purpose of improving one of our underperforming key performance indicators; tobacco waste. \\n',\n",
       " 'I began by working on identifying the major loss contributors and areas for improvement and creating an action plan with targets for the next three months.  ',\n",
       " 'Over the course of the subsequent weekly team meetings I started perceiving that some of the team members were more concerned about their routine tasks and not fully invested in the project and were not completing their assigned tasks.',\n",
       " 'To address this shortcoming, I redistributed the tasks across the team members who were more active participants and myself.',\n",
       " 'We struggled to keep up, especially given technical knowledge gaps in some areas. \\n',\n",
       " 'At the end of the month after lots of hard work the new results came in, to my disappointment there was no significant improvement.',\n",
       " 'Shortly thereafter, my supervisor called me for a meeting to discuss the progress and results.',\n",
       " 'He asked about the latest updates and commended all the extra efforts and commitment we have been putting in.',\n",
       " 'He then proceeded to criticize of my leadership approach.',\n",
       " 'Hi highlighted my inability to get all the team members fully engaged in the project as a major weakness.',\n",
       " 'He said that my career progress thus far was due to my analytical rigor and hard skills and what he perceived to be as a potential for growth and explained that in order to progress further I have to address this inadequacy.',\n",
       " 'Finally he noted his expectation for better results for the following month and offered to coach me throughout.\\n',\n",
       " 'As I received the first negative feedback in my career, I battled feelings of hopelessness and ineptitude.',\n",
       " 'And for the rest of the day, I just sat at my desk to reflect on what had transpired.\\n',\n",
       " 'The following morning, I woke up determined to change my mind set.',\n",
       " 'After difficult challenge of fully accepting an embracing the criticism, it just seemed clear to me what I needed to do.',\n",
       " 'I set weekly meeting with my manager for coaching and performance review.',\n",
       " 'I subsequently signed up for a couple of internal trainings on leadership and assertiveness. \\n',\n",
       " 'I held individual meetings with each for the project team members, I thanked them for their contributions and discussed the unsatisfactory results with them.',\n",
       " 'After I asked them for individual feedback, I made sure to covey my respect and appreciation for their immense experience and sonority and politely shared my concern over their lack of engagement.',\n",
       " 'I then proceeded to explain the financial implications of our increased tobacco waste in order to convey a more relatable picture of the gravity of the situation.',\n",
       " 'On the following team meeting I threw my originally individually developed action plan and worked with the team to create a new one with individual targets for each member.\\n',\n",
       " 'After slightly improved results in the following month I made sure to recognize individual achievements in the presence of senior management.',\n",
       " 'As we all picked up the pace we were finally able to hit an all-time affiliate record for tobacco yield.\\n',\n",
       " 'I can hardly articulate the sense of pride and accomplishment I felt after having overcome my first serious professional obstacle.',\n",
       " 'This experience was in fact what first triggered for my interest to pursue MBA education.']"
      ]
     },
     "execution_count": 4,
     "metadata": {},
     "output_type": "execute_result"
    }
   ],
   "source": [
    "sents = nlp_utils.split_into_sentences(first_cell)\n",
    "sents"
   ]
  },
  {
   "cell_type": "code",
   "execution_count": 5,
   "metadata": {},
   "outputs": [
    {
     "data": {
      "text/plain": [
       "array([[ 0.15473582, -0.07001885, -0.11062717, ..., -0.10501664,\n",
       "        -0.02541004, -0.02819474],\n",
       "       [-0.00813984,  0.07106543, -0.22204433, ..., -0.0972119 ,\n",
       "        -0.02467655,  0.0119952 ],\n",
       "       [-0.09136742, -0.09641456, -0.2581274 , ...,  0.24569331,\n",
       "         0.14089169, -0.11556637],\n",
       "       ...,\n",
       "       [-0.32821774,  0.20225894, -0.00759715, ..., -0.09826257,\n",
       "         0.03845542, -0.22769107],\n",
       "       [-0.25820974,  0.08339019, -0.26512542, ...,  0.0116051 ,\n",
       "         0.05553247, -0.10792002],\n",
       "       [-0.13864774,  0.06980217, -0.39262325, ...,  0.00074799,\n",
       "         0.19021806,  0.002993  ]], shape=(26, 768), dtype=float32)"
      ]
     },
     "execution_count": 5,
     "metadata": {},
     "output_type": "execute_result"
    }
   ],
   "source": [
    "embeddings = nlp_utils.embed_sentences(sents)\n",
    "embeddings"
   ]
  },
  {
   "cell_type": "code",
   "execution_count": 6,
   "metadata": {},
   "outputs": [
    {
     "name": "stdout",
     "output_type": "stream",
     "text": [
      "total similarity: 0.46459823846817017\n",
      "resolution: 1.5\n"
     ]
    },
    {
     "data": {
      "text/plain": [
       "['Shortly after my transition to the process engineer position with Philip Morris, I was charged with leading a make-shift team composed of machine operators, senior maintenance engineers and technicians for the purpose of improving one of our underperforming key performance indicators; tobacco waste. \\n I began by working on identifying the major loss contributors and areas for improvement and creating an action plan with targets for the next three months.  ',\n",
       " 'To address this shortcoming, I redistributed the tasks across the team members who were more active participants and myself. We struggled to keep up, especially given technical knowledge gaps in some areas. \\n',\n",
       " 'At the end of the month after lots of hard work the new results came in, to my disappointment there was no significant improvement. Shortly thereafter, my supervisor called me for a meeting to discuss the progress and results.',\n",
       " 'Over the course of the subsequent weekly team meetings I started perceiving that some of the team members were more concerned about their routine tasks and not fully invested in the project and were not completing their assigned tasks.']"
      ]
     },
     "execution_count": 6,
     "metadata": {},
     "output_type": "execute_result"
    }
   ],
   "source": [
    "merged_sents = nlp_utils.merge_sentences_leiden(sents, embeddings, 300)\n",
    "merged_sents"
   ]
  },
  {
   "cell_type": "code",
   "execution_count": null,
   "metadata": {},
   "outputs": [
    {
     "name": "stdout",
     "output_type": "stream",
     "text": [
      "total similarity: 0.3847031593322754\n",
      "resolution: 1.5\n"
     ]
    },
    {
     "data": {
      "text/plain": [
       "['Given my somewhat unusual personal and professional background, I believe that  I will be able \\nto bring a unique perspective  and value  to the diverse Fuqua culture . \\n My earliest encounter with entrepreneurship came at a young age.']"
      ]
     },
     "execution_count": 7,
     "metadata": {},
     "output_type": "execute_result"
    }
   ],
   "source": [
    "second_cell = data_df.loc[7, \"content\"]\n",
    "sents2 = nlp_utils.split_into_sentences(second_cell)\n",
    "sents2\n",
    "embeddings2 = nlp_utils.embed_sentences(sents2)\n",
    "merged_sents2 = nlp_utils.merge_sentences_leiden(sents2, embeddings2, 300)\n",
    "merged_sents2"
   ]
  },
  {
   "cell_type": "code",
   "execution_count": null,
   "metadata": {},
   "outputs": [],
   "source": []
  }
 ],
 "metadata": {
  "kernelspec": {
   "display_name": ".venv",
   "language": "python",
   "name": "python3"
  },
  "language_info": {
   "codemirror_mode": {
    "name": "ipython",
    "version": 3
   },
   "file_extension": ".py",
   "mimetype": "text/x-python",
   "name": "python",
   "nbconvert_exporter": "python",
   "pygments_lexer": "ipython3",
   "version": "3.12.2"
  }
 },
 "nbformat": 4,
 "nbformat_minor": 2
}
