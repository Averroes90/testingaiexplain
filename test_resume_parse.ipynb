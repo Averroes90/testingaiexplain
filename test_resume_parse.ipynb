{
 "cells": [
  {
   "cell_type": "code",
   "execution_count": 1,
   "metadata": {},
   "outputs": [],
   "source": [
    "from nlp_utils_structured import extract_sections_from_text\n",
    "import nlp_parse_resume"
   ]
  },
  {
   "cell_type": "code",
   "execution_count": 2,
   "metadata": {},
   "outputs": [
    {
     "data": {
      "text/html": [
       "<div>\n",
       "<style scoped>\n",
       "    .dataframe tbody tr th:only-of-type {\n",
       "        vertical-align: middle;\n",
       "    }\n",
       "\n",
       "    .dataframe tbody tr th {\n",
       "        vertical-align: top;\n",
       "    }\n",
       "\n",
       "    .dataframe thead th {\n",
       "        text-align: right;\n",
       "    }\n",
       "</style>\n",
       "<table border=\"1\" class=\"dataframe\">\n",
       "  <thead>\n",
       "    <tr style=\"text-align: right;\">\n",
       "      <th></th>\n",
       "      <th>id</th>\n",
       "      <th>content</th>\n",
       "      <th>doc_type</th>\n",
       "      <th>created_date</th>\n",
       "    </tr>\n",
       "  </thead>\n",
       "  <tbody>\n",
       "    <tr>\n",
       "      <th>0</th>\n",
       "      <td>Rami,_Darden_E1.docx</td>\n",
       "      <td>Shortly after my transition to the process eng...</td>\n",
       "      <td>Essays</td>\n",
       "      <td>2025-03-04</td>\n",
       "    </tr>\n",
       "    <tr>\n",
       "      <th>1</th>\n",
       "      <td>Rami_Ibrahimi_Fuqua_Essay_2.pdf</td>\n",
       "      <td>Given my somewhat unusual personal and profess...</td>\n",
       "      <td>Essays</td>\n",
       "      <td>2025-03-04</td>\n",
       "    </tr>\n",
       "    <tr>\n",
       "      <th>2</th>\n",
       "      <td>Rami_Ibrahimi_Fuqua25.pdf</td>\n",
       "      <td>\\n1- I was born in Jordan  and raised in Jord...</td>\n",
       "      <td>Essays</td>\n",
       "      <td>2025-03-04</td>\n",
       "    </tr>\n",
       "    <tr>\n",
       "      <th>3</th>\n",
       "      <td>Rami,_Darden_Misc2.docx</td>\n",
       "      <td>What is your short-term, post-MBA career goal ...</td>\n",
       "      <td>Essays</td>\n",
       "      <td>2025-03-04</td>\n",
       "    </tr>\n",
       "    <tr>\n",
       "      <th>4</th>\n",
       "      <td>Rami,_Darden_Misc.docx</td>\n",
       "      <td>College Extracurriculars and Employment – 200 ...</td>\n",
       "      <td>Essays</td>\n",
       "      <td>2025-03-04</td>\n",
       "    </tr>\n",
       "    <tr>\n",
       "      <th>5</th>\n",
       "      <td>Rami_Ibrahimi_Fuqua_Optional_Essay.pdf</td>\n",
       "      <td>College was without doubt the roughest time in...</td>\n",
       "      <td>Essays</td>\n",
       "      <td>2025-03-04</td>\n",
       "    </tr>\n",
       "    <tr>\n",
       "      <th>6</th>\n",
       "      <td>Rami,_Darden_optional_Essay.docx</td>\n",
       "      <td>Shortly after beginning my undergraduate study...</td>\n",
       "      <td>Essays</td>\n",
       "      <td>2025-03-04</td>\n",
       "    </tr>\n",
       "    <tr>\n",
       "      <th>7</th>\n",
       "      <td>Ibrahimi_Rami_CL_Master_Card.pdf</td>\n",
       "      <td>Dear Hiring Team at Mastercard,\\nI am thrilled...</td>\n",
       "      <td>Coverletters</td>\n",
       "      <td>2025-03-04</td>\n",
       "    </tr>\n",
       "    <tr>\n",
       "      <th>8</th>\n",
       "      <td>Ibrahimi_Rami_CL_Microsoft.pdf</td>\n",
       "      <td>Dear Hiring Team,\\nI’m excited to apply for th...</td>\n",
       "      <td>Coverletters</td>\n",
       "      <td>2025-03-04</td>\n",
       "    </tr>\n",
       "    <tr>\n",
       "      <th>9</th>\n",
       "      <td>Ibrahimi_Rami_Del.pdf</td>\n",
       "      <td>Dear Hiring Team,\\nI am excited to apply for t...</td>\n",
       "      <td>Coverletters</td>\n",
       "      <td>2025-03-04</td>\n",
       "    </tr>\n",
       "    <tr>\n",
       "      <th>10</th>\n",
       "      <td>Ibrahimi_Rami_CL_Roblox.pdf</td>\n",
       "      <td>Dear Hiring Team at Roblox,\\nI am excited to a...</td>\n",
       "      <td>Coverletters</td>\n",
       "      <td>2025-03-04</td>\n",
       "    </tr>\n",
       "    <tr>\n",
       "      <th>11</th>\n",
       "      <td>Ibrahimi_Rami_McKinsey.pdf</td>\n",
       "      <td>RAMI I. IBRAHIMI  \\n2101 Arlington Blvd. #433 ...</td>\n",
       "      <td>Coverletters</td>\n",
       "      <td>2025-03-04</td>\n",
       "    </tr>\n",
       "    <tr>\n",
       "      <th>12</th>\n",
       "      <td>Ibrahimi_Rami_CL_UBS.pdf</td>\n",
       "      <td>Dear Hiring Team at UBS,\\nI am excited to appl...</td>\n",
       "      <td>Coverletters</td>\n",
       "      <td>2025-03-04</td>\n",
       "    </tr>\n",
       "    <tr>\n",
       "      <th>13</th>\n",
       "      <td>Ibrahimi_Rami.docx</td>\n",
       "      <td>Rami I. Ibrahimi\\nCharlottesville, VA 22903  (...</td>\n",
       "      <td>Resumes</td>\n",
       "      <td>2025-03-04</td>\n",
       "    </tr>\n",
       "    <tr>\n",
       "      <th>14</th>\n",
       "      <td>Ibrahimi_Rami.pdf</td>\n",
       "      <td>RAMI I. IBRAHIMI San Francisco, CA • (415) 806...</td>\n",
       "      <td>Resumes</td>\n",
       "      <td>2025-03-04</td>\n",
       "    </tr>\n",
       "  </tbody>\n",
       "</table>\n",
       "</div>"
      ],
      "text/plain": [
       "                                        id  \\\n",
       "0                     Rami,_Darden_E1.docx   \n",
       "1          Rami_Ibrahimi_Fuqua_Essay_2.pdf   \n",
       "2                Rami_Ibrahimi_Fuqua25.pdf   \n",
       "3                  Rami,_Darden_Misc2.docx   \n",
       "4                   Rami,_Darden_Misc.docx   \n",
       "5   Rami_Ibrahimi_Fuqua_Optional_Essay.pdf   \n",
       "6         Rami,_Darden_optional_Essay.docx   \n",
       "7         Ibrahimi_Rami_CL_Master_Card.pdf   \n",
       "8           Ibrahimi_Rami_CL_Microsoft.pdf   \n",
       "9                    Ibrahimi_Rami_Del.pdf   \n",
       "10             Ibrahimi_Rami_CL_Roblox.pdf   \n",
       "11              Ibrahimi_Rami_McKinsey.pdf   \n",
       "12                Ibrahimi_Rami_CL_UBS.pdf   \n",
       "13                      Ibrahimi_Rami.docx   \n",
       "14                       Ibrahimi_Rami.pdf   \n",
       "\n",
       "                                              content      doc_type  \\\n",
       "0   Shortly after my transition to the process eng...        Essays   \n",
       "1   Given my somewhat unusual personal and profess...        Essays   \n",
       "2    \\n1- I was born in Jordan  and raised in Jord...        Essays   \n",
       "3   What is your short-term, post-MBA career goal ...        Essays   \n",
       "4   College Extracurriculars and Employment – 200 ...        Essays   \n",
       "5   College was without doubt the roughest time in...        Essays   \n",
       "6   Shortly after beginning my undergraduate study...        Essays   \n",
       "7   Dear Hiring Team at Mastercard,\\nI am thrilled...  Coverletters   \n",
       "8   Dear Hiring Team,\\nI’m excited to apply for th...  Coverletters   \n",
       "9   Dear Hiring Team,\\nI am excited to apply for t...  Coverletters   \n",
       "10  Dear Hiring Team at Roblox,\\nI am excited to a...  Coverletters   \n",
       "11  RAMI I. IBRAHIMI  \\n2101 Arlington Blvd. #433 ...  Coverletters   \n",
       "12  Dear Hiring Team at UBS,\\nI am excited to appl...  Coverletters   \n",
       "13  Rami I. Ibrahimi\\nCharlottesville, VA 22903  (...       Resumes   \n",
       "14  RAMI I. IBRAHIMI San Francisco, CA • (415) 806...       Resumes   \n",
       "\n",
       "   created_date  \n",
       "0    2025-03-04  \n",
       "1    2025-03-04  \n",
       "2    2025-03-04  \n",
       "3    2025-03-04  \n",
       "4    2025-03-04  \n",
       "5    2025-03-04  \n",
       "6    2025-03-04  \n",
       "7    2025-03-04  \n",
       "8    2025-03-04  \n",
       "9    2025-03-04  \n",
       "10   2025-03-04  \n",
       "11   2025-03-04  \n",
       "12   2025-03-04  \n",
       "13   2025-03-04  \n",
       "14   2025-03-04  "
      ]
     },
     "execution_count": 2,
     "metadata": {},
     "output_type": "execute_result"
    }
   ],
   "source": [
    "import pandas as pd\n",
    "\n",
    "data_url = \"my_corpus.csv\"\n",
    "data_df = pd.read_csv(data_url)\n",
    "data_df"
   ]
  },
  {
   "cell_type": "code",
   "execution_count": 3,
   "metadata": {},
   "outputs": [
    {
     "data": {
      "text/plain": [
       "'RAMI I. IBRAHIMI San Francisco, CA • (415) 806-5906 • riibrahimi@gmail.com • linkedin.com/in/rami-ibrahimi •github.com/Averroes90 Certified AI professional with an engineering background and an MBA, transitioning from product operations to machine learning operations and engineering. Hands-on experience in building predictive models, big data manipulation, and managing cross-functional teams    TECHNICAL SKILLS •Programming Languages: Python, JavaScript, SQL, C •Machine Learning: TensorFlow, Keras, Scikit-learn, PyTorch •Data Science: Pandas, NumPy, Matplotlib, Jupyter •Cloud Platforms: AWS (SageMaker, EC2), Google Cloud  •DevOps & Tools: Docker, Git, Kubernetes, Vue.js    PROFESSIONAL EXPERIENCE Google LLC    2018-2023  Product Operations T/ Program Manager – Phones (2019-2023)  Mountain View, CA •Managed overseas team of data scientists to deliver machine learning predictive models for return rates & manufacturing cell qualification resulting in reduction of 15% in qualification costs •Created and executed new process for management of OpEx product costs in tandem with cross-regional team resulting in $3.5 million and $7 million in savings for Pixel 2020 and Pixel 2021 respectively •Drove product headcount resource management for 8 Pixel devices from concept through end of life •Managed non-device costs for Wearables business unit totaling $150 million annually  •Led early engagement Product investigation and feature definition for a new segment Pixel device   Hardware, Product Operations MBA Intern – Phones (Summer 2018)  Mountain View, CA •Designed and implemented new process for Inventory Management Forum for next-gen flagship Pixel devices resulting in complete automation of the process and 80% reduction in work load •Established standard Key Part Release and Master Production Schedule model and input templates •Completely restructured Clear to Build management process leading to strategic SKU-level visibility Philip Morris International  2013-2017  Operations Planning Analyst (2015-2017)  Izmir, Turkey •Selected out of 50 candidates for leadership development assignment to the Turkish affiliate, the cluster head for EMEA region and the largest CPG in Turkey •Directed cross-functional domestic and international project team in successful resolution of a defective company-wide data mining and reporting tool in support of 40 production line operations representing annual volume of 70 billion sticks  •Led cross-functional effort across five teams to successfully launch the first export project for 23 new products across eight new African markets representing 15% of annual volume •Supervised the operations team for the revamp of seven strategic products including Marlboro and L&M brands achieving 100% hit rate for in-market-sales timeline requirements Process Engineer (2014-2015)  Amman, Jordan •Led two five-person teams on two production facility operations improvement projects, setting four new all-time records and achieving recognition for two key performance indicators •Initiated factory inventory management and categorization process for spare parts and raw materials resulting in the reduction local inventory by $1 million representing 40% of total inventory; received Philip Morris International Above and Beyond the Call of Duty award Electrical Engineer (2013-2014)  Amman, Jordan •Designed and installed track and trace weight measurement system \\nRami I. Ibrahimi | riibrahimi@gmail.com | Page  of 12\\n  EDUCATION Columbia University Engineering AI Bootcamp New York, NY Certificate in Artificial Intelligence and Machine Learning, June 2024 •Key skills: Python, Pandas, TensorFlow, Keras, Scikit-learn, NLP, Computer Vision •Projects: Developed a sentiment analysis model using NLP techniques; built a convolutional neural network for image classification; analyzed machine failure data using multivariate analysis to identify key contributors  University of Virginia Darden School of Business Charlottesville, V A Master of Business Administration, May 2019 •GMAT: 720 •Darden Foundation Scholarship: Awarded merit-based scholarship recognizing academic excellence •Clubs: Consulting, Technology, Finance, Adam Smith Society, and Soccer   University of Jordan Amman, Jordan Bachelor of Science in Mechatronics Engineering, Jan 2013 •Key skills: Embedded Systems, Microcontroller Programming, Assembly Language, Robotics •V olunteering: lecturer for Assembly & Microprocessors and Design of Embedded Systems classes    SELECTED TECHNICAL PROJECTS Auto Transcribe and Translate (Mar 2024 - present) Python, NLP , Jupyter, spaCy, pydub, PyTorch, OpenAI API, Google STT API •Developed an advanced tool converting spoken language in videos into written subtitles in any desired language •Achieved a Word Error Rate (WER) of 5%, improving transcription accuracy by 20% over baseline models. •Leveraged Google’s Chirp models and OpenAI’s Whisper for broad language coverage and high accuracy, implementing DTW (Dynamic Time Warping) for effective subtitle alignment and consolidation •Implemented backend AI prompting techniques to refine transcriptions, reducing errors by 15% and enhancing clarity and readability.GPT Interface (Jun 2023 - present) Vue.js, Flask, FastAPI, Webpack,  Pydantic, SQLite, SQLAlchemy, Poetry, Redis, OpenAI API, Gemini API  •Built a full-stack AI-powered application integrating GPT models using OpenAI and Gemini APIs. •Focused on self-education and skill development, mastering end-to-end development from frontend (Vue.js) to backend (Flask, FastAPI, SQLAlchemy) •Implemented caching with Redis, reducing API response latency by 40% and decreasing server load by 30% for efficient model response handling and scalability. Battery Management System (Jan 2023 - Jun 2023) Python, C, STM32, ADC, FRAM, Wi-Fi, Kalman Filter, Active Cell Balancing •Designed a BMS for a 10S3P battery pack utilizing Epoch 21700 cells with active cell balancing and advanced protection mechanisms, increasing battery life by 20% and reducing cell imbalance by 25%. •Developed a hybrid memory management system using the MCU flash, FRAM, and an SD card to manage high-frequency data logging and efficient communication to cloud servers •Optimized the system for real-time data handling, advanced cell protection, and wireless updates, improving overall system efficiency by 30% and reducing maintenance time by 40%.    ADDITIONAL INFORMATION & PROFESSIONAL DEVELOPMENT •Dual Citizenship: United States & Jordan •Bilingual proficiency in English and Arabic, and basic proficiency in Turkish  •Soccer midfielder & mountain biker, interested in post-classical history and Oxford Union debates •PEARSON certified Smartphone developerRami I. Ibrahimi | riibrahimi@gmail.com | Page  of 22'"
      ]
     },
     "execution_count": 3,
     "metadata": {},
     "output_type": "execute_result"
    }
   ],
   "source": [
    "first_cell = data_df.loc[14, \"content\"]\n",
    "first_cell"
   ]
  },
  {
   "cell_type": "code",
   "execution_count": 4,
   "metadata": {},
   "outputs": [
    {
     "data": {
      "text/plain": [
       "['RAMI I. IBRAHIMI San Francisco, CA • (415) 806-5906 • riibrahimi@gmail.com • linkedin.com/in/rami-ibrahimi •github.com/Averroes90 Certified AI professional with an engineering background and an MBA, transitioning from product operations to machine learning operations and engineering. Hands-on experience in building predictive models, big data manipulation, and managing cross-functional teams    TECHNICAL SKILLS •Programming Languages: Python, JavaScript, SQL, C •Machine Learning: TensorFlow, Keras, Scikit-learn, PyTorch •Data Science: Pandas, NumPy, Matplotlib, Jupyter •Cloud Platforms: AWS (SageMaker, EC2), Google Cloud  •DevOps & Tools: Docker, Git, Kubernetes, Vue.js    PROFESSIONAL EXPERIENCE Google LLC    2018-2023  Product Operations T/ Program Manager – Phones (2019-2023)  Mountain View, CA •Managed overseas team of data scientists to deliver machine learning predictive models for return rates & manufacturing cell qualification resulting in reduction of 15% in qualification costs •Created and executed new process for management of OpEx product costs in tandem with cross-regional team resulting in $3.5 million and $7 million in savings for Pixel 2020 and Pixel 2021 respectively •Drove product headcount resource management for 8 Pixel devices from concept through end of life •Managed non-device costs for Wearables business unit totaling $150 million annually  •Led early engagement Product investigation and feature definition for a new segment Pixel device   Hardware, Product Operations MBA Intern – Phones (Summer 2018)  Mountain View, CA •Designed and implemented new process for Inventory Management Forum for next-gen flagship Pixel devices resulting in complete automation of the process and 80% reduction in work load •Established standard Key Part Release and Master Production Schedule model and input templates •Completely restructured Clear to Build management process leading to strategic SKU-level visibility Philip Morris International  2013-2017  Operations Planning Analyst (2015-2017)  Izmir, Turkey •Selected out of 50 candidates for leadership development assignment to the Turkish affiliate, the cluster head for EMEA region and the largest CPG in Turkey •Directed cross-functional domestic and international project team in successful resolution of a defective company-wide data mining and reporting tool in support of 40 production line operations representing annual volume of 70 billion sticks  •Led cross-functional effort across five teams to successfully launch the first export project for 23 new products across eight new African markets representing 15% of annual volume •Supervised the operations team for the revamp of seven strategic products including Marlboro and L&M brands achieving 100% hit rate for in-market-sales timeline requirements Process Engineer (2014-2015)  Amman, Jordan •Led two five-person teams on two production facility operations improvement projects, setting four new all-time records and achieving recognition for two key performance indicators •Initiated factory inventory management and categorization process for spare parts and raw materials resulting in the reduction local inventory by $1 million representing 40% of total inventory; received Philip Morris International Above and Beyond the Call of Duty award Electrical Engineer (2013-2014)  Amman, Jordan •Designed and installed track and trace weight measurement system',\n",
       " 'Rami I. Ibrahimi | riibrahimi@gmail.com | Page  of 12',\n",
       " 'EDUCATION Columbia University Engineering AI Bootcamp New York, NY Certificate in Artificial Intelligence and Machine Learning, June 2024 •Key skills: Python, Pandas, TensorFlow, Keras, Scikit-learn, NLP, Computer Vision •Projects: Developed a sentiment analysis model using NLP techniques; built a convolutional neural network for image classification; analyzed machine failure data using multivariate analysis to identify key contributors  University of Virginia Darden School of Business Charlottesville, V A Master of Business Administration, May 2019 •GMAT: 720 •Darden Foundation Scholarship: Awarded merit-based scholarship recognizing academic excellence •Clubs: Consulting, Technology, Finance, Adam Smith Society, and Soccer   University of Jordan Amman, Jordan Bachelor of Science in Mechatronics Engineering, Jan 2013 •Key skills: Embedded Systems, Microcontroller Programming, Assembly Language, Robotics •V olunteering: lecturer for Assembly & Microprocessors and Design of Embedded Systems classes    SELECTED TECHNICAL PROJECTS Auto Transcribe and Translate (Mar 2024 - present) Python, NLP , Jupyter, spaCy, pydub, PyTorch, OpenAI API, Google STT API •Developed an advanced tool converting spoken language in videos into written subtitles in any desired language •Achieved a Word Error Rate (WER) of 5%, improving transcription accuracy by 20% over baseline models. •Leveraged Google’s Chirp models and OpenAI’s Whisper for broad language coverage and high accuracy, implementing DTW (Dynamic Time Warping) for effective subtitle alignment and consolidation •Implemented backend AI prompting techniques to refine transcriptions, reducing errors by 15% and enhancing clarity and readability.GPT Interface (Jun 2023 - present) Vue.js, Flask, FastAPI, Webpack,  Pydantic, SQLite, SQLAlchemy, Poetry, Redis, OpenAI API, Gemini API  •Built a full-stack AI-powered application integrating GPT models using OpenAI and Gemini APIs. •Focused on self-education and skill development, mastering end-to-end development from frontend (Vue.js) to backend (Flask, FastAPI, SQLAlchemy) •Implemented caching with Redis, reducing API response latency by 40% and decreasing server load by 30% for efficient model response handling and scalability. Battery Management System (Jan 2023 - Jun 2023) Python, C, STM32, ADC, FRAM, Wi-Fi, Kalman Filter, Active Cell Balancing •Designed a BMS for a 10S3P battery pack utilizing Epoch 21700 cells with active cell balancing and advanced protection mechanisms, increasing battery life by 20% and reducing cell imbalance by 25%. •Developed a hybrid memory management system using the MCU flash, FRAM, and an SD card to manage high-frequency data logging and efficient communication to cloud servers •Optimized the system for real-time data handling, advanced cell protection, and wireless updates, improving overall system efficiency by 30% and reducing maintenance time by 40%.    ADDITIONAL INFORMATION & PROFESSIONAL DEVELOPMENT •Dual Citizenship: United States & Jordan •Bilingual proficiency in English and Arabic, and basic proficiency in Turkish  •Soccer midfielder & mountain biker, interested in post-classical history and Oxford Union debates •PEARSON certified Smartphone developerRami I. Ibrahimi | riibrahimi@gmail.com | Page  of 22']"
      ]
     },
     "execution_count": 4,
     "metadata": {},
     "output_type": "execute_result"
    }
   ],
   "source": [
    "lines = nlp_parse_resume.parse_into_lines(first_cell)\n",
    "lines"
   ]
  },
  {
   "cell_type": "code",
   "execution_count": 5,
   "metadata": {},
   "outputs": [
    {
     "name": "stdout",
     "output_type": "stream",
     "text": [
      "RAMI I. IBRAHIMI San Francisco, CA • (415) 806-5906 • riibrahimi@gmail.com • linkedin.com/in/rami-ibrahimi •github.com/Averroes90 Certified AI professional with an engineering background and an MBA, transitioning from product operations to machine learning operations and engineering. Hands-on experience in building predictive models, big data manipulation, and managing cross-functional teams    TECHNICAL SKILLS •Programming Languages: Python, JavaScript, SQL, C •Machine Learning: TensorFlow, Keras, Scikit-learn, PyTorch •Data Science: Pandas, NumPy, Matplotlib, Jupyter •Cloud Platforms: AWS (SageMaker, EC2), Google Cloud  •DevOps & Tools: Docker, Git, Kubernetes, Vue.js    PROFESSIONAL EXPERIENCE Google LLC    2018-2023  Product Operations T/ Program Manager – Phones (2019-2023)  Mountain View, CA •Managed overseas team of data scientists to deliver machine learning predictive models for return rates & manufacturing cell qualification resulting in reduction of 15% in qualification costs •Created and executed new process for management of OpEx product costs in tandem with cross-regional team resulting in $3.5 million and $7 million in savings for Pixel 2020 and Pixel 2021 respectively •Drove product headcount resource management for 8 Pixel devices from concept through end of life •Managed non-device costs for Wearables business unit totaling $150 million annually  •Led early engagement Product investigation and feature definition for a new segment Pixel device   Hardware, Product Operations MBA Intern – Phones (Summer 2018)  Mountain View, CA •Designed and implemented new process for Inventory Management Forum for next-gen flagship Pixel devices resulting in complete automation of the process and 80% reduction in work load •Established standard Key Part Release and Master Production Schedule model and input templates •Completely restructured Clear to Build management process leading to strategic SKU-level visibility Philip Morris International  2013-2017  Operations Planning Analyst (2015-2017)  Izmir, Turkey •Selected out of 50 candidates for leadership development assignment to the Turkish affiliate, the cluster head for EMEA region and the largest CPG in Turkey •Directed cross-functional domestic and international project team in successful resolution of a defective company-wide data mining and reporting tool in support of 40 production line operations representing annual volume of 70 billion sticks  •Led cross-functional effort across five teams to successfully launch the first export project for 23 new products across eight new African markets representing 15% of annual volume •Supervised the operations team for the revamp of seven strategic products including Marlboro and L&M brands achieving 100% hit rate for in-market-sales timeline requirements Process Engineer (2014-2015)  Amman, Jordan •Led two five-person teams on two production facility operations improvement projects, setting four new all-time records and achieving recognition for two key performance indicators •Initiated factory inventory management and categorization process for spare parts and raw materials resulting in the reduction local inventory by $1 million representing 40% of total inventory; received Philip Morris International Above and Beyond the Call of Duty award Electrical Engineer (2013-2014)  Amman, Jordan •Designed and installed track and trace weight measurement system\n",
      "Rami I. Ibrahimi | riibrahimi@gmail.com | Page  of 12\n",
      "['EDUCATION Columbia University Engineering AI Bootcamp New York, NY Certificate in Artificial Intelligence and Machine Learning, June 2024 •Key skills: Python, Pandas, TensorFlow, Keras, Scikit-learn, NLP, Computer Vision •Projects: Developed a sentiment analysis model using NLP techniques; built a convolutional neural network for image classification; analyzed machine failure data using multivariate analysis to identify key contributors  University of Virginia Darden School of Business Charlottesville, V A Master of Business Administration, May 2019 •GMAT: 720 •Darden Foundation Scholarship: Awarded merit-based scholarship recognizing academic excellence •Clubs: Consulting, Technology, Finance, Adam Smith Society, and Soccer   University of Jordan Amman, Jordan Bachelor of Science in Mechatronics Engineering, Jan 2013 •Key skills: Embedded Systems, Microcontroller Programming, Assembly Language, Robotics •V olunteering: lecturer for Assembly & Microprocessors and Design of Embedded Systems classes    SELECTED TECHNICAL PROJECTS Auto Transcribe and Translate (Mar 2024 - present) Python, NLP , Jupyter, spaCy, pydub, PyTorch, OpenAI API, Google STT API •Developed an advanced tool converting spoken language in videos into written subtitles in any desired language •Achieved a Word Error Rate (WER) of 5%, improving transcription accuracy by 20% over baseline models. •Leveraged Google’s Chirp models and OpenAI’s Whisper for broad language coverage and high accuracy, implementing DTW (Dynamic Time Warping) for effective subtitle alignment and consolidation •Implemented backend AI prompting techniques to refine transcriptions, reducing errors by 15% and enhancing clarity and readability.GPT Interface (Jun 2023 - present) Vue.js, Flask, FastAPI, Webpack,  Pydantic, SQLite, SQLAlchemy, Poetry, Redis, OpenAI API, Gemini API  •Built a full-stack AI-powered application integrating GPT models using OpenAI and Gemini APIs. •Focused on self-education and skill development, mastering end-to-end development from frontend (Vue.js) to backend (Flask, FastAPI, SQLAlchemy) •Implemented caching with Redis, reducing API response latency by 40% and decreasing server load by 30% for efficient model response handling and scalability. Battery Management System (Jan 2023 - Jun 2023) Python, C, STM32, ADC, FRAM, Wi-Fi, Kalman Filter, Active Cell Balancing •Designed a BMS for a 10S3P battery pack utilizing Epoch 21700 cells with active cell balancing and advanced protection mechanisms, increasing battery life by 20% and reducing cell imbalance by 25%. •Developed a hybrid memory management system using the MCU flash, FRAM, and an SD card to manage high-frequency data logging and efficient communication to cloud servers •Optimized the system for real-time data handling, advanced cell protection, and wireless updates, improving overall system efficiency by 30% and reducing maintenance time by 40%.    ADDITIONAL INFORMATION & PROFESSIONAL DEVELOPMENT •Dual Citizenship: United States & Jordan •Bilingual proficiency in English and Arabic, and basic proficiency in Turkish  •Soccer midfielder & mountain biker, interested in post-classical history and Oxford Union debates •PEARSON certified Smartphone developerRami I. Ibrahimi | riibrahimi@gmail.com | Page  of 22']\n"
     ]
    }
   ],
   "source": [
    "name, contact_info, leftover_lines = nlp_parse_resume.extract_name_and_contact_info(\n",
    "    lines\n",
    ")\n",
    "print(name)\n",
    "print(contact_info)\n",
    "print(leftover_lines)"
   ]
  },
  {
   "cell_type": "code",
   "execution_count": null,
   "metadata": {},
   "outputs": [],
   "source": []
  }
 ],
 "metadata": {
  "kernelspec": {
   "display_name": ".venv",
   "language": "python",
   "name": "python3"
  },
  "language_info": {
   "codemirror_mode": {
    "name": "ipython",
    "version": 3
   },
   "file_extension": ".py",
   "mimetype": "text/x-python",
   "name": "python",
   "nbconvert_exporter": "python",
   "pygments_lexer": "ipython3",
   "version": "3.12.2"
  }
 },
 "nbformat": 4,
 "nbformat_minor": 2
}
