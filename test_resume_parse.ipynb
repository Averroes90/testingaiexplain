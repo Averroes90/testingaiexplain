{
 "cells": [
  {
   "cell_type": "code",
   "execution_count": 1,
   "metadata": {},
   "outputs": [],
   "source": [
    "import chunking.chunk_sections as chunk_sections"
   ]
  },
  {
   "cell_type": "code",
   "execution_count": null,
   "metadata": {},
   "outputs": [
    {
     "data": {
      "text/html": [
       "<div>\n",
       "<style scoped>\n",
       "    .dataframe tbody tr th:only-of-type {\n",
       "        vertical-align: middle;\n",
       "    }\n",
       "\n",
       "    .dataframe tbody tr th {\n",
       "        vertical-align: top;\n",
       "    }\n",
       "\n",
       "    .dataframe thead th {\n",
       "        text-align: right;\n",
       "    }\n",
       "</style>\n",
       "<table border=\"1\" class=\"dataframe\">\n",
       "  <thead>\n",
       "    <tr style=\"text-align: right;\">\n",
       "      <th></th>\n",
       "      <th>id</th>\n",
       "      <th>content</th>\n",
       "      <th>doc_type</th>\n",
       "      <th>created_date</th>\n",
       "    </tr>\n",
       "  </thead>\n",
       "  <tbody>\n",
       "    <tr>\n",
       "      <th>0</th>\n",
       "      <td>Rami,_Darden_E1.docx</td>\n",
       "      <td>Shortly after my transition to the process eng...</td>\n",
       "      <td>Essays</td>\n",
       "      <td>2025-03-13</td>\n",
       "    </tr>\n",
       "    <tr>\n",
       "      <th>1</th>\n",
       "      <td>Rami_Ibrahimi_Fuqua_Essay_2.pdf</td>\n",
       "      <td>Given my somewhat unusual personal and profess...</td>\n",
       "      <td>Essays</td>\n",
       "      <td>2025-03-13</td>\n",
       "    </tr>\n",
       "    <tr>\n",
       "      <th>2</th>\n",
       "      <td>Rami_Ibrahimi_Fuqua25.pdf</td>\n",
       "      <td>\\n1- I was born in Jordan  and raised in Jord...</td>\n",
       "      <td>Essays</td>\n",
       "      <td>2025-03-13</td>\n",
       "    </tr>\n",
       "    <tr>\n",
       "      <th>3</th>\n",
       "      <td>Rami,_Darden_Misc2.docx</td>\n",
       "      <td>What is your short-term, post-MBA career goal ...</td>\n",
       "      <td>Essays</td>\n",
       "      <td>2025-03-13</td>\n",
       "    </tr>\n",
       "    <tr>\n",
       "      <th>4</th>\n",
       "      <td>Rami,_Darden_Misc.docx</td>\n",
       "      <td>College Extracurriculars and Employment – 200 ...</td>\n",
       "      <td>Essays</td>\n",
       "      <td>2025-03-13</td>\n",
       "    </tr>\n",
       "    <tr>\n",
       "      <th>5</th>\n",
       "      <td>Rami_Ibrahimi_Fuqua_Optional_Essay.pdf</td>\n",
       "      <td>College was without doubt the roughest time in...</td>\n",
       "      <td>Essays</td>\n",
       "      <td>2025-03-13</td>\n",
       "    </tr>\n",
       "    <tr>\n",
       "      <th>6</th>\n",
       "      <td>Rami,_Darden_optional_Essay.docx</td>\n",
       "      <td>Shortly after beginning my undergraduate study...</td>\n",
       "      <td>Essays</td>\n",
       "      <td>2025-03-13</td>\n",
       "    </tr>\n",
       "    <tr>\n",
       "      <th>7</th>\n",
       "      <td>Ibrahimi_Rami_CL_Master_Card.pdf</td>\n",
       "      <td>Dear Hiring Team at Mastercard,\\nI am thrilled...</td>\n",
       "      <td>Coverletters</td>\n",
       "      <td>2025-03-13</td>\n",
       "    </tr>\n",
       "    <tr>\n",
       "      <th>8</th>\n",
       "      <td>Ibrahimi_Rami_CL_Microsoft.pdf</td>\n",
       "      <td>Dear Hiring Team,\\nI’m excited to apply for th...</td>\n",
       "      <td>Coverletters</td>\n",
       "      <td>2025-03-13</td>\n",
       "    </tr>\n",
       "    <tr>\n",
       "      <th>9</th>\n",
       "      <td>Ibrahimi_Rami_Del.pdf</td>\n",
       "      <td>Dear Hiring Team,\\nI am excited to apply for t...</td>\n",
       "      <td>Coverletters</td>\n",
       "      <td>2025-03-13</td>\n",
       "    </tr>\n",
       "    <tr>\n",
       "      <th>10</th>\n",
       "      <td>Ibrahimi_Rami_CL_Roblox.pdf</td>\n",
       "      <td>Dear Hiring Team at Roblox,\\nI am excited to a...</td>\n",
       "      <td>Coverletters</td>\n",
       "      <td>2025-03-13</td>\n",
       "    </tr>\n",
       "    <tr>\n",
       "      <th>11</th>\n",
       "      <td>Ibrahimi_Rami_McKinsey.pdf</td>\n",
       "      <td>RAMI I. IBRAHIMI  \\n2101 Arlington Blvd. #433 ...</td>\n",
       "      <td>Coverletters</td>\n",
       "      <td>2025-03-13</td>\n",
       "    </tr>\n",
       "    <tr>\n",
       "      <th>12</th>\n",
       "      <td>Ibrahimi_Rami_CL_UBS.pdf</td>\n",
       "      <td>Dear Hiring Team at UBS,\\nI am excited to appl...</td>\n",
       "      <td>Coverletters</td>\n",
       "      <td>2025-03-13</td>\n",
       "    </tr>\n",
       "    <tr>\n",
       "      <th>13</th>\n",
       "      <td>Ibrahimi_Rami_120722.docx</td>\n",
       "      <td>Rami I. Ibrahimi\\nCharlottesville, VA 22903  (...</td>\n",
       "      <td>Resumes</td>\n",
       "      <td>2025-03-13</td>\n",
       "    </tr>\n",
       "    <tr>\n",
       "      <th>14</th>\n",
       "      <td>Ibrahimi_Rami.docx</td>\n",
       "      <td>Rami I. Ibrahimi\\nSan Francisco, CA · (415) 80...</td>\n",
       "      <td>Resumes</td>\n",
       "      <td>2025-03-13</td>\n",
       "    </tr>\n",
       "    <tr>\n",
       "      <th>15</th>\n",
       "      <td>Ibrahimi_Rami.pdf</td>\n",
       "      <td>RAMI I. IBRAHIMI San Francisco, CA • (415) 806...</td>\n",
       "      <td>Resumes</td>\n",
       "      <td>2025-03-13</td>\n",
       "    </tr>\n",
       "  </tbody>\n",
       "</table>\n",
       "</div>"
      ],
      "text/plain": [
       "                                        id  \\\n",
       "0                     Rami,_Darden_E1.docx   \n",
       "1          Rami_Ibrahimi_Fuqua_Essay_2.pdf   \n",
       "2                Rami_Ibrahimi_Fuqua25.pdf   \n",
       "3                  Rami,_Darden_Misc2.docx   \n",
       "4                   Rami,_Darden_Misc.docx   \n",
       "5   Rami_Ibrahimi_Fuqua_Optional_Essay.pdf   \n",
       "6         Rami,_Darden_optional_Essay.docx   \n",
       "7         Ibrahimi_Rami_CL_Master_Card.pdf   \n",
       "8           Ibrahimi_Rami_CL_Microsoft.pdf   \n",
       "9                    Ibrahimi_Rami_Del.pdf   \n",
       "10             Ibrahimi_Rami_CL_Roblox.pdf   \n",
       "11              Ibrahimi_Rami_McKinsey.pdf   \n",
       "12                Ibrahimi_Rami_CL_UBS.pdf   \n",
       "13               Ibrahimi_Rami_120722.docx   \n",
       "14                      Ibrahimi_Rami.docx   \n",
       "15                       Ibrahimi_Rami.pdf   \n",
       "\n",
       "                                              content      doc_type  \\\n",
       "0   Shortly after my transition to the process eng...        Essays   \n",
       "1   Given my somewhat unusual personal and profess...        Essays   \n",
       "2    \\n1- I was born in Jordan  and raised in Jord...        Essays   \n",
       "3   What is your short-term, post-MBA career goal ...        Essays   \n",
       "4   College Extracurriculars and Employment – 200 ...        Essays   \n",
       "5   College was without doubt the roughest time in...        Essays   \n",
       "6   Shortly after beginning my undergraduate study...        Essays   \n",
       "7   Dear Hiring Team at Mastercard,\\nI am thrilled...  Coverletters   \n",
       "8   Dear Hiring Team,\\nI’m excited to apply for th...  Coverletters   \n",
       "9   Dear Hiring Team,\\nI am excited to apply for t...  Coverletters   \n",
       "10  Dear Hiring Team at Roblox,\\nI am excited to a...  Coverletters   \n",
       "11  RAMI I. IBRAHIMI  \\n2101 Arlington Blvd. #433 ...  Coverletters   \n",
       "12  Dear Hiring Team at UBS,\\nI am excited to appl...  Coverletters   \n",
       "13  Rami I. Ibrahimi\\nCharlottesville, VA 22903  (...       Resumes   \n",
       "14  Rami I. Ibrahimi\\nSan Francisco, CA · (415) 80...       Resumes   \n",
       "15  RAMI I. IBRAHIMI San Francisco, CA • (415) 806...       Resumes   \n",
       "\n",
       "   created_date  \n",
       "0    2025-03-13  \n",
       "1    2025-03-13  \n",
       "2    2025-03-13  \n",
       "3    2025-03-13  \n",
       "4    2025-03-13  \n",
       "5    2025-03-13  \n",
       "6    2025-03-13  \n",
       "7    2025-03-13  \n",
       "8    2025-03-13  \n",
       "9    2025-03-13  \n",
       "10   2025-03-13  \n",
       "11   2025-03-13  \n",
       "12   2025-03-13  \n",
       "13   2025-03-13  \n",
       "14   2025-03-13  \n",
       "15   2025-03-13  "
      ]
     },
     "execution_count": 2,
     "metadata": {},
     "output_type": "execute_result"
    }
   ],
   "source": [
    "import pandas as pd\n",
    "\n",
    "data_url = \"csv/my_corpus.csv\"\n",
    "data_df = pd.read_csv(data_url)\n",
    "data_df"
   ]
  },
  {
   "cell_type": "code",
   "execution_count": 3,
   "metadata": {},
   "outputs": [
    {
     "data": {
      "text/plain": [
       "'RAMI I. IBRAHIMI San Francisco, CA • (415) 806-5906 • riibrahimi@gmail.com • linkedin.com/in/rami-ibrahimi •github.com/Averroes90 Certified AI professional with an engineering background and an MBA, transitioning from product operations to machine learning operations and engineering. Hands-on experience in building predictive models, big data manipulation, and managing cross-functional teams    TECHNICAL SKILLS •Programming Languages: Python, JavaScript, SQL, C •Machine Learning: TensorFlow, Keras, Scikit-learn, PyTorch •Data Science: Pandas, NumPy, Matplotlib, Jupyter •Cloud Platforms: AWS (SageMaker, EC2), Google Cloud  •DevOps & Tools: Docker, Git, Kubernetes, Vue.js    PROFESSIONAL EXPERIENCE Google LLC    2018-2023  Product Operations T/ Program Manager – Phones (2019-2023)  Mountain View, CA •Managed overseas team of data scientists to deliver machine learning predictive models for return rates & manufacturing cell qualification resulting in reduction of 15% in qualification costs •Created and executed new process for management of OpEx product costs in tandem with cross-regional team resulting in $3.5 million and $7 million in savings for Pixel 2020 and Pixel 2021 respectively •Drove product headcount resource management for 8 Pixel devices from concept through end of life •Managed non-device costs for Wearables business unit totaling $150 million annually  •Led early engagement Product investigation and feature definition for a new segment Pixel device   Hardware, Product Operations MBA Intern – Phones (Summer 2018)  Mountain View, CA •Designed and implemented new process for Inventory Management Forum for next-gen flagship Pixel devices resulting in complete automation of the process and 80% reduction in work load •Established standard Key Part Release and Master Production Schedule model and input templates •Completely restructured Clear to Build management process leading to strategic SKU-level visibility Philip Morris International  2013-2017  Operations Planning Analyst (2015-2017)  Izmir, Turkey •Selected out of 50 candidates for leadership development assignment to the Turkish affiliate, the cluster head for EMEA region and the largest CPG in Turkey •Directed cross-functional domestic and international project team in successful resolution of a defective company-wide data mining and reporting tool in support of 40 production line operations representing annual volume of 70 billion sticks  •Led cross-functional effort across five teams to successfully launch the first export project for 23 new products across eight new African markets representing 15% of annual volume •Supervised the operations team for the revamp of seven strategic products including Marlboro and L&M brands achieving 100% hit rate for in-market-sales timeline requirements Process Engineer (2014-2015)  Amman, Jordan •Led two five-person teams on two production facility operations improvement projects, setting four new all-time records and achieving recognition for two key performance indicators •Initiated factory inventory management and categorization process for spare parts and raw materials resulting in the reduction local inventory by $1 million representing 40% of total inventory; received Philip Morris International Above and Beyond the Call of Duty award Electrical Engineer (2013-2014)  Amman, Jordan •Designed and installed track and trace weight measurement system \\nRami I. Ibrahimi | riibrahimi@gmail.com | Page  of 12\\n  EDUCATION Columbia University Engineering AI Bootcamp New York, NY Certificate in Artificial Intelligence and Machine Learning, June 2024 •Key skills: Python, Pandas, TensorFlow, Keras, Scikit-learn, NLP, Computer Vision •Projects: Developed a sentiment analysis model using NLP techniques; built a convolutional neural network for image classification; analyzed machine failure data using multivariate analysis to identify key contributors  University of Virginia Darden School of Business Charlottesville, V A Master of Business Administration, May 2019 •GMAT: 720 •Darden Foundation Scholarship: Awarded merit-based scholarship recognizing academic excellence •Clubs: Consulting, Technology, Finance, Adam Smith Society, and Soccer   University of Jordan Amman, Jordan Bachelor of Science in Mechatronics Engineering, Jan 2013 •Key skills: Embedded Systems, Microcontroller Programming, Assembly Language, Robotics •V olunteering: lecturer for Assembly & Microprocessors and Design of Embedded Systems classes    SELECTED TECHNICAL PROJECTS Auto Transcribe and Translate (Mar 2024 - present) Python, NLP , Jupyter, spaCy, pydub, PyTorch, OpenAI API, Google STT API •Developed an advanced tool converting spoken language in videos into written subtitles in any desired language •Achieved a Word Error Rate (WER) of 5%, improving transcription accuracy by 20% over baseline models. •Leveraged Google’s Chirp models and OpenAI’s Whisper for broad language coverage and high accuracy, implementing DTW (Dynamic Time Warping) for effective subtitle alignment and consolidation •Implemented backend AI prompting techniques to refine transcriptions, reducing errors by 15% and enhancing clarity and readability.GPT Interface (Jun 2023 - present) Vue.js, Flask, FastAPI, Webpack,  Pydantic, SQLite, SQLAlchemy, Poetry, Redis, OpenAI API, Gemini API  •Built a full-stack AI-powered application integrating GPT models using OpenAI and Gemini APIs. •Focused on self-education and skill development, mastering end-to-end development from frontend (Vue.js) to backend (Flask, FastAPI, SQLAlchemy) •Implemented caching with Redis, reducing API response latency by 40% and decreasing server load by 30% for efficient model response handling and scalability. Battery Management System (Jan 2023 - Jun 2023) Python, C, STM32, ADC, FRAM, Wi-Fi, Kalman Filter, Active Cell Balancing •Designed a BMS for a 10S3P battery pack utilizing Epoch 21700 cells with active cell balancing and advanced protection mechanisms, increasing battery life by 20% and reducing cell imbalance by 25%. •Developed a hybrid memory management system using the MCU flash, FRAM, and an SD card to manage high-frequency data logging and efficient communication to cloud servers •Optimized the system for real-time data handling, advanced cell protection, and wireless updates, improving overall system efficiency by 30% and reducing maintenance time by 40%.    ADDITIONAL INFORMATION & PROFESSIONAL DEVELOPMENT •Dual Citizenship: United States & Jordan •Bilingual proficiency in English and Arabic, and basic proficiency in Turkish  •Soccer midfielder & mountain biker, interested in post-classical history and Oxford Union debates •PEARSON certified Smartphone developerRami I. Ibrahimi | riibrahimi@gmail.com | Page  of 22'"
      ]
     },
     "execution_count": 3,
     "metadata": {},
     "output_type": "execute_result"
    }
   ],
   "source": [
    "first_cell = data_df.loc[15, \"content\"]\n",
    "first_cell"
   ]
  },
  {
   "cell_type": "code",
   "execution_count": 4,
   "metadata": {},
   "outputs": [
    {
     "name": "stdout",
     "output_type": "stream",
     "text": [
      "0: RAMI I. IBRAHIMI San Francisco, CA • (415) 806-5906 • riibrahimi@gmail.com • linkedin.com/in/rami-ibrahimi •github.com/Averroes90 Certified AI professional with an engineering background and an MBA, transitioning from product operations to machine learning operations and engineering. Hands-on experience in building predictive models, big data manipulation, and managing cross-functional teams    TECHNICAL SKILLS •Programming Languages: Python, JavaScript, SQL, C •Machine Learning: TensorFlow, Keras, Scikit-learn, PyTorch •Data Science: Pandas, NumPy, Matplotlib, Jupyter •Cloud Platforms: AWS (SageMaker, EC2), Google Cloud  •DevOps & Tools: Docker, Git, Kubernetes, Vue.js    PROFESSIONAL EXPERIENCE Google LLC    2018-2023  Product Operations T/ Program Manager – Phones (2019-2023)  Mountain View, CA •Managed overseas team of data scientists to deliver machine learning predictive models for return rates & manufacturing cell qualification resulting in reduction of 15% in qualification costs •Created and executed new process for management of OpEx product costs in tandem with cross-regional team resulting in $3.5 million and $7 million in savings for Pixel 2020 and Pixel 2021 respectively •Drove product headcount resource management for 8 Pixel devices from concept through end of life •Managed non-device costs for Wearables business unit totaling $150 million annually  •Led early engagement Product investigation and feature definition for a new segment Pixel device   Hardware, Product Operations MBA Intern – Phones (Summer 2018)  Mountain View, CA •Designed and implemented new process for Inventory Management Forum for next-gen flagship Pixel devices resulting in complete automation of the process and 80% reduction in work load •Established standard Key Part Release and Master Production Schedule model and input templates •Completely restructured Clear to Build management process leading to strategic SKU-level visibility Philip Morris International  2013-2017  Operations Planning Analyst (2015-2017)  Izmir, Turkey •Selected out of 50 candidates for leadership development assignment to the Turkish affiliate, the cluster head for EMEA region and the largest CPG in Turkey •Directed cross-functional domestic and international project team in successful resolution of a defective company-wide data mining and reporting tool in support of 40 production line operations representing annual volume of 70 billion sticks  •Led cross-functional effort across five teams to successfully launch the first export project for 23 new products across eight new African markets representing 15% of annual volume •Supervised the operations team for the revamp of seven strategic products including Marlboro and L&M brands achieving 100% hit rate for in-market-sales timeline requirements Process Engineer (2014-2015)  Amman, Jordan •Led two five-person teams on two production facility operations improvement projects, setting four new all-time records and achieving recognition for two key performance indicators •Initiated factory inventory management and categorization process for spare parts and raw materials resulting in the reduction local inventory by $1 million representing 40% of total inventory; received Philip Morris International Above and Beyond the Call of Duty award Electrical Engineer (2013-2014)  Amman, Jordan •Designed and installed track and trace weight measurement system\n"
     ]
    }
   ],
   "source": [
    "lines = chunk_sections.parse_into_lines(first_cell)\n",
    "for i, line in enumerate(lines):\n",
    "    print(f\"{i}: {line}\")"
   ]
  },
  {
   "cell_type": "code",
   "execution_count": 5,
   "metadata": {},
   "outputs": [
    {
     "name": "stdout",
     "output_type": "stream",
     "text": [
      "Rami I. Ibrahimi\n",
      "San Francisco, CA · (415) 806-5906 · riibrahimi@gmail.com · linkedin.com/in/rami-ibrahimi ·github.com/Averroes90\n",
      "['Certified AI professional with an engineering background and an MBA, transitioning from product operations to machine learning operations and engineering. Hands-on experience in building predictive models, big data manipulation, and managing cross-functional teams', 'Technical skills', 'Programming Languages: Python, JavaScript, SQL, C', 'Machine Learning: TensorFlow, Keras, Scikit-learn, PyTorch', 'Data Science: Pandas, NumPy, Matplotlib, Jupyter', 'Cloud Platforms: AWS (SageMaker, EC2), Google Cloud', 'DevOps & Tools: Docker, Git, Kubernetes, Vue.js', 'professional experience', 'Google LLC  \\t\\t2018-2023', 'Product Operations T/ Program Manager – Phones (2019-2023)\\t Mountain View, CA', 'Managed overseas team of data scientists to deliver machine learning predictive models for return rates & manufacturing cell qualification resulting in reduction of 15% in qualification costs', 'Created and executed new process for management of OpEx product costs in tandem with cross-regional team resulting in $3.5 million and $7 million in savings for Pixel 2020 and Pixel 2021 respectively', 'Drove product headcount resource management for 8 Pixel devices from concept through end of life', 'Managed non-device costs for Wearables business unit totaling $150 million annually', 'Led early engagement Product investigation and feature definition for a new segment Pixel device', 'Hardware, Product Operations MBA Intern – Phones (Summer 2018)\\t Mountain View, CA', 'Designed and implemented new process for Inventory Management Forum for next-gen flagship Pixel devices resulting in complete automation of the process and 80% reduction in work load', 'Established standard Key Part Release and Master Production Schedule model and input templates', 'Completely restructured Clear to Build management process leading to strategic SKU-level visibility', 'Philip Morris International \\t2013-2017', 'Operations Planning Analyst (2015-2017)\\t Izmir, Turkey', 'Selected out of 50 candidates for leadership development assignment to the Turkish affiliate, the cluster head for EMEA region and the largest CPG in Turkey', 'Directed cross-functional domestic and international project team in successful resolution of a defective company-wide data mining and reporting tool in support of 40 production line operations representing annual volume of 70 billion sticks', 'Led cross-functional effort across five teams to successfully launch the first export project for 23 new products across eight new African markets representing 15% of annual volume', 'Supervised the operations team for the revamp of seven strategic products including Marlboro and L&M brands achieving 100% hit rate for in-market-sales timeline requirements', 'Process Engineer (2014-2015) \\tAmman, Jordan', 'Led two five-person teams on two production facility operations improvement projects, setting four new all-time records and achieving recognition for two key performance indicators', 'Initiated factory inventory management and categorization process for spare parts and raw materials resulting in the reduction local inventory by $1 million representing 40% of total inventory; received Philip Morris International Above and Beyond the Call of Duty award', 'Electrical Engineer (2013-2014) \\tAmman, Jordan', 'Designed and installed track and trace weight measurement system', 'Education', 'Columbia University Engineering AI Bootcamp\\tNew York, NY', 'Certificate in Artificial Intelligence and Machine Learning, June 2024', 'Key skills: Python, Pandas, TensorFlow, Keras, Scikit-learn, NLP, Computer Vision', 'Projects: Developed a sentiment analysis model using NLP techniques; built a convolutional neural network for image classification; analyzed machine failure data using multivariate analysis to identify key contributors', 'University of Virginia Darden School of Business\\tCharlottesville, VA', 'Master of Business Administration, May 2019', 'GMAT: 720', 'Darden Foundation Scholarship: Awarded merit-based scholarship recognizing academic excellence', 'Clubs: Consulting, Technology, Finance, Adam Smith Society, and Soccer', 'University of Jordan\\tAmman, Jordan', 'Bachelor of Science in Mechatronics Engineering, Jan 2013', 'Key skills: Embedded Systems, Microcontroller Programming, Assembly Language, Robotics', 'Volunteering: lecturer for Assembly & Microprocessors and Design of Embedded Systems classes', 'selected technical projects', 'Auto Transcribe and Translate (Mar 2024 - present)', 'Python, NLP, Jupyter, spaCy, pydub, PyTorch, OpenAI API, Google STT API', 'Developed an advanced tool converting spoken language in videos into written subtitles in any desired language', 'Achieved a Word Error Rate (WER) of 5%, improving transcription accuracy by\\xa020%\\xa0over baseline models.', 'Leveraged Google’s Chirp models and OpenAI’s Whisper for broad language coverage and high accuracy, implementing DTW (Dynamic Time Warping) for effective subtitle alignment and consolidation', 'Implemented backend AI prompting techniques to refine transcriptions, reducing errors by 15% and enhancing clarity and readability.', 'GPT Interface (Jun 2023 - present)', 'Vue.js, Flask, FastAPI, Webpack,  Pydantic, SQLite, SQLAlchemy, Poetry, Redis, OpenAI API, Gemini API', 'Built a full-stack AI-powered application integrating GPT models using OpenAI and Gemini APIs.', 'Focused on self-education and skill development, mastering end-to-end development from frontend (Vue.js) to backend (Flask, FastAPI, SQLAlchemy)', 'Implemented caching with Redis, reducing API response latency by 40% and decreasing server load by 30% for efficient model response handling and scalability.', 'Battery Management System (Jan 2023 - Jun 2023)', 'Python, C, STM32, ADC, FRAM, Wi-Fi, Kalman Filter, Active Cell Balancing', 'Designed a BMS for a 10S3P battery pack utilizing Epoch 21700 cells with active cell balancing and advanced protection mechanisms, increasing battery life by 20% and reducing cell imbalance by 25%.', 'Developed a hybrid memory management system using the MCU flash, FRAM, and an SD card to manage high-frequency data logging and efficient communication to cloud servers', 'Optimized the system for real-time data handling, advanced cell protection, and wireless updates, improving overall system efficiency by 30% and reducing maintenance time by 40%.', 'Additional Information & professional development', 'Dual Citizenship: United States & Jordan', 'Bilingual proficiency in English and Arabic, and basic proficiency in Turkish', 'Soccer midfielder & mountain biker, interested in post-classical history and Oxford Union debates', 'PEARSON certified Smartphone developer']\n"
     ]
    }
   ],
   "source": [
    "name, contact_info, leftover_lines = chunk_sections.extract_name_and_contact_info(lines)\n",
    "print(name)\n",
    "print(contact_info)\n",
    "print(leftover_lines)"
   ]
  },
  {
   "cell_type": "code",
   "execution_count": 6,
   "metadata": {},
   "outputs": [
    {
     "name": "stdout",
     "output_type": "stream",
     "text": [
      "Certified AI professional with an engineering background and an MBA, transitioning from product operations to machine learning operations and engineering. Hands-on experience in building predictive models, big data manipulation, and managing cross-functional teams\n",
      "['Technical skills', 'Programming Languages: Python, JavaScript, SQL, C', 'Machine Learning: TensorFlow, Keras, Scikit-learn, PyTorch', 'Data Science: Pandas, NumPy, Matplotlib, Jupyter', 'Cloud Platforms: AWS (SageMaker, EC2), Google Cloud', 'DevOps & Tools: Docker, Git, Kubernetes, Vue.js', 'professional experience', 'Google LLC  \\t\\t2018-2023', 'Product Operations T/ Program Manager – Phones (2019-2023)\\t Mountain View, CA', 'Managed overseas team of data scientists to deliver machine learning predictive models for return rates & manufacturing cell qualification resulting in reduction of 15% in qualification costs', 'Created and executed new process for management of OpEx product costs in tandem with cross-regional team resulting in $3.5 million and $7 million in savings for Pixel 2020 and Pixel 2021 respectively', 'Drove product headcount resource management for 8 Pixel devices from concept through end of life', 'Managed non-device costs for Wearables business unit totaling $150 million annually', 'Led early engagement Product investigation and feature definition for a new segment Pixel device', 'Hardware, Product Operations MBA Intern – Phones (Summer 2018)\\t Mountain View, CA', 'Designed and implemented new process for Inventory Management Forum for next-gen flagship Pixel devices resulting in complete automation of the process and 80% reduction in work load', 'Established standard Key Part Release and Master Production Schedule model and input templates', 'Completely restructured Clear to Build management process leading to strategic SKU-level visibility', 'Philip Morris International \\t2013-2017', 'Operations Planning Analyst (2015-2017)\\t Izmir, Turkey', 'Selected out of 50 candidates for leadership development assignment to the Turkish affiliate, the cluster head for EMEA region and the largest CPG in Turkey', 'Directed cross-functional domestic and international project team in successful resolution of a defective company-wide data mining and reporting tool in support of 40 production line operations representing annual volume of 70 billion sticks', 'Led cross-functional effort across five teams to successfully launch the first export project for 23 new products across eight new African markets representing 15% of annual volume', 'Supervised the operations team for the revamp of seven strategic products including Marlboro and L&M brands achieving 100% hit rate for in-market-sales timeline requirements', 'Process Engineer (2014-2015) \\tAmman, Jordan', 'Led two five-person teams on two production facility operations improvement projects, setting four new all-time records and achieving recognition for two key performance indicators', 'Initiated factory inventory management and categorization process for spare parts and raw materials resulting in the reduction local inventory by $1 million representing 40% of total inventory; received Philip Morris International Above and Beyond the Call of Duty award', 'Electrical Engineer (2013-2014) \\tAmman, Jordan', 'Designed and installed track and trace weight measurement system', 'Education', 'Columbia University Engineering AI Bootcamp\\tNew York, NY', 'Certificate in Artificial Intelligence and Machine Learning, June 2024', 'Key skills: Python, Pandas, TensorFlow, Keras, Scikit-learn, NLP, Computer Vision', 'Projects: Developed a sentiment analysis model using NLP techniques; built a convolutional neural network for image classification; analyzed machine failure data using multivariate analysis to identify key contributors', 'University of Virginia Darden School of Business\\tCharlottesville, VA', 'Master of Business Administration, May 2019', 'GMAT: 720', 'Darden Foundation Scholarship: Awarded merit-based scholarship recognizing academic excellence', 'Clubs: Consulting, Technology, Finance, Adam Smith Society, and Soccer', 'University of Jordan\\tAmman, Jordan', 'Bachelor of Science in Mechatronics Engineering, Jan 2013', 'Key skills: Embedded Systems, Microcontroller Programming, Assembly Language, Robotics', 'Volunteering: lecturer for Assembly & Microprocessors and Design of Embedded Systems classes', 'selected technical projects', 'Auto Transcribe and Translate (Mar 2024 - present)', 'Python, NLP, Jupyter, spaCy, pydub, PyTorch, OpenAI API, Google STT API', 'Developed an advanced tool converting spoken language in videos into written subtitles in any desired language', 'Achieved a Word Error Rate (WER) of 5%, improving transcription accuracy by\\xa020%\\xa0over baseline models.', 'Leveraged Google’s Chirp models and OpenAI’s Whisper for broad language coverage and high accuracy, implementing DTW (Dynamic Time Warping) for effective subtitle alignment and consolidation', 'Implemented backend AI prompting techniques to refine transcriptions, reducing errors by 15% and enhancing clarity and readability.', 'GPT Interface (Jun 2023 - present)', 'Vue.js, Flask, FastAPI, Webpack,  Pydantic, SQLite, SQLAlchemy, Poetry, Redis, OpenAI API, Gemini API', 'Built a full-stack AI-powered application integrating GPT models using OpenAI and Gemini APIs.', 'Focused on self-education and skill development, mastering end-to-end development from frontend (Vue.js) to backend (Flask, FastAPI, SQLAlchemy)', 'Implemented caching with Redis, reducing API response latency by 40% and decreasing server load by 30% for efficient model response handling and scalability.', 'Battery Management System (Jan 2023 - Jun 2023)', 'Python, C, STM32, ADC, FRAM, Wi-Fi, Kalman Filter, Active Cell Balancing', 'Designed a BMS for a 10S3P battery pack utilizing Epoch 21700 cells with active cell balancing and advanced protection mechanisms, increasing battery life by 20% and reducing cell imbalance by 25%.', 'Developed a hybrid memory management system using the MCU flash, FRAM, and an SD card to manage high-frequency data logging and efficient communication to cloud servers', 'Optimized the system for real-time data handling, advanced cell protection, and wireless updates, improving overall system efficiency by 30% and reducing maintenance time by 40%.', 'Additional Information & professional development', 'Dual Citizenship: United States & Jordan', 'Bilingual proficiency in English and Arabic, and basic proficiency in Turkish', 'Soccer midfielder & mountain biker, interested in post-classical history and Oxford Union debates', 'PEARSON certified Smartphone developer']\n"
     ]
    }
   ],
   "source": [
    "summary_text, leftover_lines2 = chunk_sections.extract_summary(leftover_lines)\n",
    "print(summary_text)\n",
    "print(leftover_lines2)"
   ]
  },
  {
   "cell_type": "code",
   "execution_count": 7,
   "metadata": {},
   "outputs": [
    {
     "data": {
      "text/plain": [
       "{'TECHNICAL SKILLS': 'Programming Languages: Python, JavaScript, SQL, C\\nMachine Learning: TensorFlow, Keras, Scikit-learn, PyTorch\\nData Science: Pandas, NumPy, Matplotlib, Jupyter\\nCloud Platforms: AWS (SageMaker, EC2), Google Cloud\\nDevOps & Tools: Docker, Git, Kubernetes, Vue.js',\n",
       " 'PROFESSIONAL EXPERIENCE': 'Google LLC  \\t\\t2018-2023\\nProduct Operations T/ Program Manager – Phones (2019-2023)\\t Mountain View, CA\\nManaged overseas team of data scientists to deliver machine learning predictive models for return rates & manufacturing cell qualification resulting in reduction of 15% in qualification costs\\nCreated and executed new process for management of OpEx product costs in tandem with cross-regional team resulting in $3.5 million and $7 million in savings for Pixel 2020 and Pixel 2021 respectively\\nDrove product headcount resource management for 8 Pixel devices from concept through end of life\\nManaged non-device costs for Wearables business unit totaling $150 million annually\\nLed early engagement Product investigation and feature definition for a new segment Pixel device\\nHardware, Product Operations MBA Intern – Phones (Summer 2018)\\t Mountain View, CA\\nDesigned and implemented new process for Inventory Management Forum for next-gen flagship Pixel devices resulting in complete automation of the process and 80% reduction in work load\\nEstablished standard Key Part Release and Master Production Schedule model and input templates\\nCompletely restructured Clear to Build management process leading to strategic SKU-level visibility\\nPhilip Morris International \\t2013-2017\\nOperations Planning Analyst (2015-2017)\\t Izmir, Turkey\\nSelected out of 50 candidates for leadership development assignment to the Turkish affiliate, the cluster head for EMEA region and the largest CPG in Turkey\\nDirected cross-functional domestic and international project team in successful resolution of a defective company-wide data mining and reporting tool in support of 40 production line operations representing annual volume of 70 billion sticks\\nLed cross-functional effort across five teams to successfully launch the first export project for 23 new products across eight new African markets representing 15% of annual volume\\nSupervised the operations team for the revamp of seven strategic products including Marlboro and L&M brands achieving 100% hit rate for in-market-sales timeline requirements\\nProcess Engineer (2014-2015) \\tAmman, Jordan\\nLed two five-person teams on two production facility operations improvement projects, setting four new all-time records and achieving recognition for two key performance indicators\\nInitiated factory inventory management and categorization process for spare parts and raw materials resulting in the reduction local inventory by $1 million representing 40% of total inventory; received Philip Morris International Above and Beyond the Call of Duty award\\nElectrical Engineer (2013-2014) \\tAmman, Jordan\\nDesigned and installed track and trace weight measurement system\\nEducation\\nColumbia University Engineering AI Bootcamp\\tNew York, NY\\nCertificate in Artificial Intelligence and Machine Learning, June 2024\\nKey skills: Python, Pandas, TensorFlow, Keras, Scikit-learn, NLP, Computer Vision\\nProjects: Developed a sentiment analysis model using NLP techniques; built a convolutional neural network for image classification; analyzed machine failure data using multivariate analysis to identify key contributors\\nUniversity of Virginia Darden School of Business\\tCharlottesville, VA\\nMaster of Business Administration, May 2019\\nGMAT: 720\\nDarden Foundation Scholarship: Awarded merit-based scholarship recognizing academic excellence\\nClubs: Consulting, Technology, Finance, Adam Smith Society, and Soccer\\nUniversity of Jordan\\tAmman, Jordan\\nBachelor of Science in Mechatronics Engineering, Jan 2013\\nKey skills: Embedded Systems, Microcontroller Programming, Assembly Language, Robotics\\nVolunteering: lecturer for Assembly & Microprocessors and Design of Embedded Systems classes\\nselected technical projects\\nAuto Transcribe and Translate (Mar 2024 - present)\\nPython, NLP, Jupyter, spaCy, pydub, PyTorch, OpenAI API, Google STT API\\nDeveloped an advanced tool converting spoken language in videos into written subtitles in any desired language\\nAchieved a Word Error Rate (WER) of 5%, improving transcription accuracy by\\xa020%\\xa0over baseline models.\\nLeveraged Google’s Chirp models and OpenAI’s Whisper for broad language coverage and high accuracy, implementing DTW (Dynamic Time Warping) for effective subtitle alignment and consolidation\\nImplemented backend AI prompting techniques to refine transcriptions, reducing errors by 15% and enhancing clarity and readability.\\nGPT Interface (Jun 2023 - present)\\nVue.js, Flask, FastAPI, Webpack,  Pydantic, SQLite, SQLAlchemy, Poetry, Redis, OpenAI API, Gemini API\\nBuilt a full-stack AI-powered application integrating GPT models using OpenAI and Gemini APIs.\\nFocused on self-education and skill development, mastering end-to-end development from frontend (Vue.js) to backend (Flask, FastAPI, SQLAlchemy)\\nImplemented caching with Redis, reducing API response latency by 40% and decreasing server load by 30% for efficient model response handling and scalability.\\nBattery Management System (Jan 2023 - Jun 2023)\\nPython, C, STM32, ADC, FRAM, Wi-Fi, Kalman Filter, Active Cell Balancing\\nDesigned a BMS for a 10S3P battery pack utilizing Epoch 21700 cells with active cell balancing and advanced protection mechanisms, increasing battery life by 20% and reducing cell imbalance by 25%.\\nDeveloped a hybrid memory management system using the MCU flash, FRAM, and an SD card to manage high-frequency data logging and efficient communication to cloud servers\\nOptimized the system for real-time data handling, advanced cell protection, and wireless updates, improving overall system efficiency by 30% and reducing maintenance time by 40%.\\nAdditional Information & professional development\\nDual Citizenship: United States & Jordan\\nBilingual proficiency in English and Arabic, and basic proficiency in Turkish\\nSoccer midfielder & mountain biker, interested in post-classical history and Oxford Union debates\\nPEARSON certified Smartphone developer'}"
      ]
     },
     "execution_count": 7,
     "metadata": {},
     "output_type": "execute_result"
    }
   ],
   "source": [
    "sections = chunk_sections.chunk_sections_by_headings(leftover_lines2)\n",
    "sections"
   ]
  },
  {
   "cell_type": "code",
   "execution_count": 8,
   "metadata": {},
   "outputs": [
    {
     "data": {
      "text/plain": [
       "['Programming Languages: Python, JavaScript, SQL, C',\n",
       " 'Machine Learning: TensorFlow, Keras, Scikit-learn, PyTorch',\n",
       " 'Data Science: Pandas, NumPy, Matplotlib, Jupyter',\n",
       " 'Cloud Platforms: AWS (SageMaker, EC2), Google Cloud',\n",
       " 'DevOps & Tools: Docker, Git, Kubernetes, Vue.js']"
      ]
     },
     "execution_count": 8,
     "metadata": {},
     "output_type": "execute_result"
    }
   ],
   "source": [
    "import chunking.chunk_technical_skills as chunk_technical_skills\n",
    "\n",
    "sub_tech_skills = chunk_technical_skills.chunk_technical_skills(\n",
    "    sections[\"TECHNICAL SKILLS\"]\n",
    ")\n",
    "sub_tech_skills"
   ]
  },
  {
   "cell_type": "code",
   "execution_count": null,
   "metadata": {},
   "outputs": [],
   "source": []
  }
 ],
 "metadata": {
  "kernelspec": {
   "display_name": ".venv",
   "language": "python",
   "name": "python3"
  },
  "language_info": {
   "codemirror_mode": {
    "name": "ipython",
    "version": 3
   },
   "file_extension": ".py",
   "mimetype": "text/x-python",
   "name": "python",
   "nbconvert_exporter": "python",
   "pygments_lexer": "ipython3",
   "version": "3.12.2"
  }
 },
 "nbformat": 4,
 "nbformat_minor": 2
}
