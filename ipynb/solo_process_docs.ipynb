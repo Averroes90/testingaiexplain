{
 "cells": [
  {
   "cell_type": "code",
   "execution_count": null,
   "id": "9803872e",
   "metadata": {},
   "outputs": [],
   "source": [
    "import pandas as pd\n",
    "\n",
    "input_csv = \"csv/my_corpus.csv\"\n",
    "output_csv = \"csv/\"\n",
    "data_url = input_csv\n",
    "data_df = pd.read_csv(data_url)"
   ]
  },
  {
   "cell_type": "code",
   "execution_count": null,
   "id": "fb716542",
   "metadata": {},
   "outputs": [],
   "source": [
    "from nlp.combine import process_dataframe, create_resume_csv, create_essay_csv\n",
    "\n",
    "parsed_resumes, parsed_essays = process_dataframe(data_df)\n",
    "create_resume_csv(parsed_resumes, output_csv)\n",
    "create_essay_csv(parsed_essays, output_csv)"
   ]
  }
 ],
 "metadata": {
  "language_info": {
   "name": "python"
  }
 },
 "nbformat": 4,
 "nbformat_minor": 5
}
