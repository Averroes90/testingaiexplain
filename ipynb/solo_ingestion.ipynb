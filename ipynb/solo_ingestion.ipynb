{
 "cells": [
  {
   "cell_type": "code",
   "execution_count": null,
   "id": "2895a7f3",
   "metadata": {},
   "outputs": [],
   "source": [
    "import pandas as pd\n",
    "\n",
    "data_df_resume = pd.read_csv(\"csv/resume.csv\")\n",
    "data_df_essay = pd.read_csv(\"csv/essay.csv\")"
   ]
  },
  {
   "cell_type": "code",
   "execution_count": null,
   "id": "13f211ba",
   "metadata": {},
   "outputs": [],
   "source": [
    "from nlp.models import model, util\n",
    "\n",
    "\n",
    "def dedup_and_nona(df, threshold=0.85):\n",
    "    df[\"content\"] = df[\"content\"].fillna(\"none\")\n",
    "    embeddings = model.encode(df[\"content\"].fillna(\"none\"), convert_to_tensor=True)\n",
    "    cos_sim_matrix = util.cos_sim(embeddings, embeddings)\n",
    "\n",
    "    n = len(df)\n",
    "    to_drop = set()\n",
    "\n",
    "    print(\"\\n🔍 Dropped near-duplicate rows:\\n\")\n",
    "    for i in range(n):\n",
    "        if i in to_drop:\n",
    "            continue\n",
    "        for j in range(i + 1, n):\n",
    "            if j not in to_drop:\n",
    "                sim = cos_sim_matrix[i][j].item()\n",
    "                if sim > threshold:\n",
    "                    print(f\"---\")\n",
    "                    print(\n",
    "                        f\"✅ Keeping row {i} (original):\\n  \\\"{df.iloc[i]['content']}\\\"\"\n",
    "                    )\n",
    "                    print(\n",
    "                        f\"❌ Dropping row {j} (similar):\\n  \\\"{df.iloc[j]['content']}\\\"\"\n",
    "                    )\n",
    "                    print(f\"📈 Similarity score: {sim:.4f}\")\n",
    "                    print(f\"---\\n\")\n",
    "                    to_drop.add(j)\n",
    "\n",
    "    # Drop duplicates\n",
    "    deduped_df = df.drop(list(to_drop)).reset_index(drop=True)\n",
    "    print(\"✅ Done.\")\n",
    "    return deduped_df"
   ]
  },
  {
   "cell_type": "code",
   "execution_count": null,
   "id": "1118cde4",
   "metadata": {},
   "outputs": [],
   "source": [
    "processed_df_resume = dedup_and_nona(data_df_resume)\n",
    "processed_df_essay = dedup_and_nona(data_df_essay)"
   ]
  },
  {
   "cell_type": "code",
   "execution_count": null,
   "id": "dd0e63dd",
   "metadata": {},
   "outputs": [],
   "source": [
    "def add_unique_ids(df):\n",
    "    data_df_nona_unique_ids = df.copy()\n",
    "    data_df_nona_unique_ids[\"id\"] = (\n",
    "        data_df_nona_unique_ids[\"id\"].astype(str)\n",
    "        + \"_\"\n",
    "        + data_df_nona_unique_ids.index.astype(str)\n",
    "    )\n",
    "    return data_df_nona_unique_ids"
   ]
  },
  {
   "cell_type": "code",
   "execution_count": null,
   "id": "cdc913ba",
   "metadata": {},
   "outputs": [],
   "source": [
    "df_unique_id_rusume = add_unique_ids(processed_df_resume)\n",
    "df_unique_id_essay = add_unique_ids(processed_df_essay)\n",
    "resume_data = df_unique_id_rusume.to_dict(orient=\"records\")\n",
    "essay_data = df_unique_id_essay.to_dict(orient=\"records\")"
   ]
  },
  {
   "cell_type": "code",
   "execution_count": null,
   "id": "b201911a",
   "metadata": {},
   "outputs": [],
   "source": [
    "from aixplain.factories import IndexFactory\n",
    "\n",
    "# Create an index\n",
    "resume_index_name = \"resume_data_deduped\"\n",
    "resume_index_description = \"resumes without duplicates or NA\"\n",
    "resume_index = IndexFactory.create(resume_index_name, resume_index_description)"
   ]
  },
  {
   "cell_type": "code",
   "execution_count": null,
   "id": "1db05cfc",
   "metadata": {},
   "outputs": [],
   "source": [
    "from aixplain.modules.model.record import Record\n",
    "\n",
    "# Prepare the records\n",
    "records = [\n",
    "    Record(\n",
    "        value=item[\"content\"],\n",
    "        value_type=\"text\",\n",
    "        id=item[\"id\"],\n",
    "        uri=\"\",\n",
    "        attributes={\"category\": item[\"category\"]},\n",
    "    )\n",
    "    for item in resume_data\n",
    "]\n",
    "\n",
    "# Upsert records to the index\n",
    "index.upsert(records)"
   ]
  },
  {
   "cell_type": "code",
   "execution_count": null,
   "id": "e8071cce",
   "metadata": {},
   "outputs": [],
   "source": [
    "from aixplain.factories import IndexFactory\n",
    "\n",
    "# Create an index\n",
    "index_name = \"essay_data_deduped\"\n",
    "index_description = \"free form without duplicates or NA\"\n",
    "index = IndexFactory.create(index_name, index_description)"
   ]
  }
 ],
 "metadata": {
  "kernelspec": {
   "display_name": ".venv",
   "language": "python",
   "name": "python3"
  },
  "language_info": {
   "name": "python",
   "version": "3.12.2"
  }
 },
 "nbformat": 4,
 "nbformat_minor": 5
}
