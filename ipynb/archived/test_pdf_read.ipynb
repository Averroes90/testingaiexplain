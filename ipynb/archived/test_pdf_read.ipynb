{
 "cells": [
  {
   "cell_type": "code",
   "execution_count": 1,
   "metadata": {},
   "outputs": [
    {
     "name": "stderr",
     "output_type": "stream",
     "text": [
      "Ignoring wrong pointing object 6 0 (offset 0)\n",
      "Ignoring wrong pointing object 8 0 (offset 0)\n",
      "Ignoring wrong pointing object 10 0 (offset 0)\n",
      "Ignoring wrong pointing object 15 0 (offset 0)\n",
      "Ignoring wrong pointing object 17 0 (offset 0)\n",
      "Ignoring wrong pointing object 19 0 (offset 0)\n",
      "Ignoring wrong pointing object 21 0 (offset 0)\n",
      "Ignoring wrong pointing object 23 0 (offset 0)\n"
     ]
    },
    {
     "data": {
      "text/plain": [
       "'                                                                                             R     AMI            I.    I  BRAHIMI\\n                      San Francisco               , C   A    94158        • (4    1 5  ) 8  0  6 -5906        • riibrahimi@gmail.com                            • linkedin.com/in/rami                        -ibrahimi\\n E DUCATION\\n                                   University of Virginia Darden School of Business                                                                                                                           Charlottesville, VA\\n                                   Candidate for Master of Business Administration, May 2019\\n                                   •        GMAT: 720\\n                                   •        Darden Foundation Scholarship\\n                                   •        Clubs:         Consulting,             Technology, Finance, Adam Smith Society                                               , and      S  occer\\n                                   University of Jordan                                                                                                                                                             Amman,              Jordan\\n                                   Bachelor of Science in                        Mechatronics Engineering, Jan 2013\\n                                   •        Volunteer l            ecturer for Assembly & Microprocessors and De                                                    sign of Embedded Systems                               classes\\n E XPERIENCE\\n201    8 -Present                  Google LLC\\n                                   Product           Operations              T/   Program Manager                         –   Phones (          2019      -Present         )                                Mountain View, CA\\n                                   •        Managed oversees third party team of data scientists to deliver machine learning predictive models\\n                                            for return rates &                  manufacturing                 cell qualification resulting in reduction of 15% in qualification costs\\n                                   •        Created and executed new process for management                                                         of OpEx product costs                         in tandem with cross                     -\\n                                            regional team resulting in                           $3.5 million and $7                     million        in savings for              Pixel       2020 and            Pixel      20   21\\n                                   •        Drove product                 headcount             resource management for                             8 Pixel devices from                      concept through end of life\\n                                   •        Manage          d non       -device        costs for Wearables business unit                                   totaling $150 million                      a nnually\\n                                   •        Led early engagement                          Product investigation and feature definition                                           for a new segment Pixel device\\n                                   Hardware, Product Operations MBA Intern                                                    –   Phones           (Summer 2018)                                            Mountain              View, CA\\n                                   •        Designed and implemented                                new       process         for Inventory Management Forum                                       for    n  ext   -gen flagship\\n                                            Pixel phones               resulting in complete                      automation              of the process and                   80% reduction in                    work load\\n                                   •        Established             standard          Key Part Release and Master Production S                                             chedule          model and             input       templates\\n                                   •        Completely r              evamped            Clear to Build                management                process          leading to           strategic         SKU       -level visibility\\n2013     -2017                     Phil     ip Morris International\\n                                   Operations Planning Analyst                                  (201     5  -2017)                                                                                                      Izmir, Turkey\\n                                   •        Selected out of                50 candidates for leadership development assignment to the Turkish affiliate, the\\n                                            cluster head for EEMA region                                  and the largest CPG in Turkey\\n                                   •        Directed          cross      -functional            domestic and international                            project team              in successful resolution of a\\n                                            defective company                     -wide data            mining         and reporting tool                   in support of 40 production line operations\\n                                            representing              annual volume of                    70 b     illion sticks\\n                                   •        Led cross functional effort across five                                      team      s to successfully launch                        the first        product export project\\n                                            for    23 new products                   across        eight      new African markets                        representing 15%                     of annual          volume\\n                                   •        Supervised             the operations team for                         the    revamp          of    seven       strategic products including Marlboro and\\n                                            L&M          brands        achieving            100% hit rate for in                   -ma     rket   -sales timeline                requirement             s\\n                                   Process Engineer (2014                           -2015)                                                                                                                          Amman, Jordan\\n                                   •        Led two           five    -person teams on two production facility operations improvement projects setting                                                                                   four\\n                                            new all        -time       records and achieving                       recognition for two                     key      performance indicators\\n                                   •        Initiated         factory inventory management                                  and categorization                    process         for    spare parts and raw materials\\n                                            resulting          in the reduction                local spare parts inventory                           by    $1 million representing                         40%       of total\\n                                            inventory          ; received Philip Morris International Above and                                                   Beyond          the    Ca    ll of Duty award\\n                                   Electrical Maintenance Engineer (2013                                             -2014)                                                                                         Amman, Jordan\\n                                   •        D   esign     ed    and install          ed    of track and trace weight measurement system\\n A DDITIONAL               INFORMATION\\n                                   •        Dual       Citizenship: United States & Jordan\\n                                   •        Bilingual proficiency in English and Arabic,                                              and basic proficiency                       in Turkish\\n                                   •        Soccer midfielder                    &    m   ountain biker             , int   erested in          post     -classical          history and            O   xford       U  nion      debate       s\\n                                   •        PEARSON certified Smartphone developer\\n                                   •        Accidentally appeared in the background of a romantic scene of a Turkish Soap Opera'"
      ]
     },
     "execution_count": 1,
     "metadata": {},
     "output_type": "execute_result"
    }
   ],
   "source": [
    "import utils\n",
    "\n",
    "file_path = \"base_folder/Resumes/Ibrahimi_Rami_120722.pdf\"\n",
    "pdf_text = utils.read_pdf(file_path)\n",
    "pdf_text"
   ]
  },
  {
   "cell_type": "code",
   "execution_count": 13,
   "metadata": {},
   "outputs": [
    {
     "data": {
      "text/plain": [
       "'RAMI I. IBRAHIMI\\nSan Francisco, CA • (415) 806-5906 • riibrahimi@gmail.com • linkedin.com/in/rami-ibrahimi •github.com/Averroes90\\nCertified AI professional with an engineering background and an MBA, transitioning from product operations to machine\\nlearning operations and engineering. Hands-on experience in building predictive models, big data manipulation, and\\nmanaging cross-functional teams\\n\\n\\nTECHNICAL SKILLS\\n•Programming Languages: Python, JavaScript, SQL, C\\n•Machine Learning: TensorFlow, Keras, Scikit-learn, PyTorch\\n•Data Science: Pandas, NumPy, Matplotlib, Jupyter\\n•Cloud Platforms: AWS (SageMaker, EC2), Google Cloud\\n•DevOps & Tools: Docker, Git, Kubernetes, Vue.js\\n\\nPROFESSIONAL EXPERIENCE\\nGoogle LLC    2018-2023\\nProduct Operations T/ Program Manager – Phones (2019-2023)  Mountain View, CA\\n•Managed overseas team of data scientists to deliver machine learning predictive models for return rates &\\nmanufacturing cell qualification resulting in reduction of 15% in qualification costs\\n•Created and executed new process for management of OpEx product costs in tandem with cross-regional team\\nresulting in $3.5 million and $7 million in savings for Pixel 2020 and Pixel 2021 respectively\\n•Drove product headcount resource management for 8 Pixel devices from concept through end of life\\n•Managed non-device costs for Wearables business unit totaling $150 million annually\\n•Led early engagement Product investigation and feature definition for a new segment Pixel device\\n\\nHardware, Product Operations MBA Intern – Phones (Summer 2018)  Mountain View, CA\\n•Designed and implemented new process for Inventory Management Forum for next-gen flagship Pixel devices\\nresulting in complete automation of the process and 80% reduction in work load\\n•Established standard Key Part Release and Master Production Schedule model and input templates\\n•Completely restructured Clear to Build management process leading to strategic SKU-level visibility\\n\\nPhilip Morris International  2013-2017\\nOperations Planning Analyst (2015-2017)  Izmir, Turkey\\n•Selected out of 50 candidates for leadership development assignment to the Turkish affiliate, the cluster head for\\nEMEA region and the largest CPG in Turkey\\n•Directed cross-functional domestic and international project team in successful resolution of a defective company-\\nwide data mining and reporting tool in support of 40 production line operations representing annual volume of 70\\nbillion sticks\\n•Led cross-functional effort across five teams to successfully launch the first export project for 23 new products\\nacross eight new African markets representing 15% of annual volume\\n•Supervised the operations team for the revamp of seven strategic products including Marlboro and L&M brands\\nachieving 100% hit rate for in-market-sales timeline requirements\\n\\nProcess Engineer (2014-2015)  Amman, Jordan\\n•Led two five-person teams on two production facility operations improvement projects, setting four new all-time\\nrecords and achieving recognition for two key performance indicators\\n•Initiated factory inventory management and categorization process for spare parts and raw materials resulting in\\nthe reduction local inventory by $1 million representing 40% of total inventory; received Philip Morris\\nInternational Above and Beyond the Call of Duty award\\n\\nElectrical Engineer (2013-2014)  Amman, Jordan\\n•Designed and installed track and trace weight measurement system\\n\\n\\n\\n\\n\\n\\n\\n\\n\\n\\n   Rami I. Ibrahimi | riibrahimi@gmail.com | Page 1 of 2\\nEDUCATION\\nColumbia University Engineering AI Bootcamp New York, NY\\nCertificate in Artificial Intelligence and Machine Learning, June 2024\\n•Key skills: Python, Pandas, TensorFlow, Keras, Scikit-learn, NLP, Computer Vision\\n•Projects: Developed a sentiment analysis model using NLP techniques; built a convolutional neural network for\\nimage classification; analyzed machine failure data using multivariate analysis to identify key contributors\\n\\nUniversity of Virginia Darden School of Business Charlottesville, VA\\nMaster of Business Administration, May 2019\\n•GMAT: 720\\n•Darden Foundation Scholarship: Awarded merit-based scholarship recognizing academic excellence\\n•Clubs: Consulting, Technology, Finance, Adam Smith Society, and Soccer\\n\\nUniversity of Jordan Amman, Jordan\\nBachelor of Science in Mechatronics Engineering, Jan 2013\\n•Key skills: Embedded Systems, Microcontroller Programming, Assembly Language, Robotics\\n•Volunteering: lecturer for Assembly & Microprocessors and Design of Embedded Systems classes\\n\\nSELECTED TECHNICAL PROJECTS\\nAuto Transcribe and Translate (Mar 2024 - present)\\nPython, NLP, Jupyter, spaCy, pydub, PyTorch, OpenAI API, Google STT API\\n\\n•Developed an advanced tool converting spoken language in videos into written subtitles in any desired language\\n•Achieved a Word Error Rate (WER) of 5%, improving transcription accuracy by 20% over baseline models.\\n•Leveraged Google’s Chirp models and OpenAI’s Whisper for broad language coverage and high accuracy,\\nimplementing DTW (Dynamic Time Warping) for effective subtitle alignment and consolidation\\n•Implemented backend AI prompting techniques to refine transcriptions, reducing errors by 15% and enhancing\\nclarity and readability.\\n\\nGPT Interface (Jun 2023 - present)\\nVue.js, Flask, FastAPI, Webpack,  Pydantic, SQLite, SQLAlchemy, Poetry, Redis, OpenAI API, Gemini API\\n\\n•Built a full-stack AI-powered application integrating GPT models using OpenAI and Gemini APIs.\\n•Focused on self-education and skill development, mastering end-to-end development from frontend (Vue.js) to\\nbackend (Flask, FastAPI, SQLAlchemy)\\n•Implemented caching with Redis, reducing API response latency by 40% and decreasing server load by 30% for\\nefficient model response handling and scalability.\\n\\nBattery Management System (Jan 2023 - Jun 2023)\\nPython, C, STM32, ADC, FRAM, Wi-Fi, Kalman Filter, Active Cell Balancing\\n\\n•Designed a BMS for a 10S3P battery pack utilizing Epoch 21700 cells with active cell balancing and advanced\\nprotection mechanisms, increasing battery life by 20% and reducing cell imbalance by 25%.\\n•Developed a hybrid memory management system using the MCU flash, FRAM, and an SD card to manage high-\\nfrequency data logging and efficient communication to cloud servers\\n•Optimized the system for real-time data handling, advanced cell protection, and wireless updates, improving\\noverall system efficiency by 30% and reducing maintenance time by 40%.\\n\\n\\nADDITIONAL INFORMATION & PROFESSIONAL DEVELOPMENT\\n•Dual Citizenship: United States & Jordan\\n•Bilingual proficiency in English and Arabic, and basic proficiency in Turkish\\n•Soccer midfielder & mountain biker, interested in post-classical history and Oxford Union debates\\n•PEARSON certified Smartphone developer\\n\\n\\n\\n\\n\\n\\n\\n   Rami I. Ibrahimi | riibrahimi@gmail.com | Page 2 of 2'"
      ]
     },
     "execution_count": 13,
     "metadata": {},
     "output_type": "execute_result"
    }
   ],
   "source": [
    "# file_path = \"base_folder/Resumes/Ibrahimi_Rami_120722.pdf\"\n",
    "file_path = \"base_folder/Resumes/Ibrahimi_Rami.pdf\"\n",
    "import pypdf\n",
    "\n",
    "\n",
    "def read_pdf(file_path):\n",
    "    \"\"\"Extracts text from a PDF file using PyPDF2, returns string content.\"\"\"\n",
    "    text = []\n",
    "    with open(file_path, \"rb\") as f:\n",
    "        reader = pypdf.PdfReader(f)\n",
    "        for page in reader.pages:\n",
    "            page_text = page.extract_text(\n",
    "                extraction_mode=\"layout\", layout_mode_scale_weight=0.1\n",
    "            )\n",
    "            if page_text:\n",
    "                text.append(page_text)\n",
    "    return \"\\n\".join(text)\n",
    "\n",
    "\n",
    "pdf_text2 = read_pdf(file_path)\n",
    "pdf_text2"
   ]
  },
  {
   "cell_type": "code",
   "execution_count": 14,
   "metadata": {},
   "outputs": [
    {
     "name": "stdout",
     "output_type": "stream",
     "text": [
      "0: RAMI I. IBRAHIMI\n",
      "1: San Francisco, CA • (415) 806-5906 • riibrahimi@gmail.com • linkedin.com/in/rami-ibrahimi •github.com/Averroes90\n",
      "2: Certified AI professional with an engineering background and an MBA, transitioning from product operations to machine\n",
      "3: learning operations and engineering. Hands-on experience in building predictive models, big data manipulation, and\n",
      "4: managing cross-functional teams\n",
      "5: TECHNICAL SKILLS\n",
      "6: •Programming Languages: Python, JavaScript, SQL, C\n",
      "7: •Machine Learning: TensorFlow, Keras, Scikit-learn, PyTorch\n",
      "8: •Data Science: Pandas, NumPy, Matplotlib, Jupyter\n",
      "9: •Cloud Platforms: AWS (SageMaker, EC2), Google Cloud\n",
      "10: •DevOps & Tools: Docker, Git, Kubernetes, Vue.js\n",
      "11: PROFESSIONAL EXPERIENCE\n",
      "12: Google LLC 2018-2023\n",
      "13: Product Operations T/ Program Manager – Phones (2019-2023) Mountain View, CA\n",
      "14: •Managed overseas team of data scientists to deliver machine learning predictive models for return rates &\n",
      "15: manufacturing cell qualification resulting in reduction of 15% in qualification costs\n",
      "16: •Created and executed new process for management of OpEx product costs in tandem with cross-regional team\n",
      "17: resulting in $3.5 million and $7 million in savings for Pixel 2020 and Pixel 2021 respectively\n",
      "18: •Drove product headcount resource management for 8 Pixel devices from concept through end of life\n",
      "19: •Managed non-device costs for Wearables business unit totaling $150 million annually\n",
      "20: •Led early engagement Product investigation and feature definition for a new segment Pixel device\n",
      "21: Hardware, Product Operations MBA Intern – Phones (Summer 2018) Mountain View, CA\n",
      "22: •Designed and implemented new process for Inventory Management Forum for next-gen flagship Pixel devices\n",
      "23: resulting in complete automation of the process and 80% reduction in work load\n",
      "24: •Established standard Key Part Release and Master Production Schedule model and input templates\n",
      "25: •Completely restructured Clear to Build management process leading to strategic SKU-level visibility\n",
      "26: Philip Morris International 2013-2017\n",
      "27: Operations Planning Analyst (2015-2017) Izmir, Turkey\n",
      "28: •Selected out of 50 candidates for leadership development assignment to the Turkish affiliate, the cluster head for\n",
      "29: EMEA region and the largest CPG in Turkey\n",
      "30: •Directed cross-functional domestic and international project team in successful resolution of a defective company-\n",
      "31: wide data mining and reporting tool in support of 40 production line operations representing annual volume of 70\n",
      "32: billion sticks\n",
      "33: •Led cross-functional effort across five teams to successfully launch the first export project for 23 new products\n",
      "34: across eight new African markets representing 15% of annual volume\n",
      "35: •Supervised the operations team for the revamp of seven strategic products including Marlboro and L&M brands\n",
      "36: achieving 100% hit rate for in-market-sales timeline requirements\n",
      "37: Process Engineer (2014-2015) Amman, Jordan\n",
      "38: •Led two five-person teams on two production facility operations improvement projects, setting four new all-time\n",
      "39: records and achieving recognition for two key performance indicators\n",
      "40: •Initiated factory inventory management and categorization process for spare parts and raw materials resulting in\n",
      "41: the reduction local inventory by $1 million representing 40% of total inventory; received Philip Morris\n",
      "42: International Above and Beyond the Call of Duty award\n",
      "43: Electrical Engineer (2013-2014) Amman, Jordan\n",
      "44: •Designed and installed track and trace weight measurement system\n",
      "45: EDUCATION\n",
      "46: Columbia University Engineering AI Bootcamp New York, NY\n",
      "47: Certificate in Artificial Intelligence and Machine Learning, June 2024\n",
      "48: •Key skills: Python, Pandas, TensorFlow, Keras, Scikit-learn, NLP, Computer Vision\n",
      "49: •Projects: Developed a sentiment analysis model using NLP techniques; built a convolutional neural network for\n",
      "50: image classification; analyzed machine failure data using multivariate analysis to identify key contributors\n",
      "51: University of Virginia Darden School of Business Charlottesville, VA\n",
      "52: Master of Business Administration, May 2019\n",
      "53: •GMAT: 720\n",
      "54: •Darden Foundation Scholarship: Awarded merit-based scholarship recognizing academic excellence\n",
      "55: •Clubs: Consulting, Technology, Finance, Adam Smith Society, and Soccer\n",
      "56: University of Jordan Amman, Jordan\n",
      "57: Bachelor of Science in Mechatronics Engineering, Jan 2013\n",
      "58: •Key skills: Embedded Systems, Microcontroller Programming, Assembly Language, Robotics\n",
      "59: •Volunteering: lecturer for Assembly & Microprocessors and Design of Embedded Systems classes\n",
      "60: SELECTED TECHNICAL PROJECTS\n",
      "61: Auto Transcribe and Translate (Mar 2024 - present)\n",
      "62: Python, NLP, Jupyter, spaCy, pydub, PyTorch, OpenAI API, Google STT API\n",
      "63: •Developed an advanced tool converting spoken language in videos into written subtitles in any desired language\n",
      "64: •Achieved a Word Error Rate (WER) of 5%, improving transcription accuracy by 20% over baseline models.\n",
      "65: •Leveraged Google’s Chirp models and OpenAI’s Whisper for broad language coverage and high accuracy,\n",
      "66: implementing DTW (Dynamic Time Warping) for effective subtitle alignment and consolidation\n",
      "67: •Implemented backend AI prompting techniques to refine transcriptions, reducing errors by 15% and enhancing\n",
      "68: clarity and readability.\n",
      "69: GPT Interface (Jun 2023 - present)\n",
      "70: Vue.js, Flask, FastAPI, Webpack, Pydantic, SQLite, SQLAlchemy, Poetry, Redis, OpenAI API, Gemini API\n",
      "71: •Built a full-stack AI-powered application integrating GPT models using OpenAI and Gemini APIs.\n",
      "72: •Focused on self-education and skill development, mastering end-to-end development from frontend (Vue.js) to\n",
      "73: backend (Flask, FastAPI, SQLAlchemy)\n",
      "74: •Implemented caching with Redis, reducing API response latency by 40% and decreasing server load by 30% for\n",
      "75: efficient model response handling and scalability.\n",
      "76: Battery Management System (Jan 2023 - Jun 2023)\n",
      "77: Python, C, STM32, ADC, FRAM, Wi-Fi, Kalman Filter, Active Cell Balancing\n",
      "78: •Designed a BMS for a 10S3P battery pack utilizing Epoch 21700 cells with active cell balancing and advanced\n",
      "79: protection mechanisms, increasing battery life by 20% and reducing cell imbalance by 25%.\n",
      "80: •Developed a hybrid memory management system using the MCU flash, FRAM, and an SD card to manage high-\n",
      "81: frequency data logging and efficient communication to cloud servers\n",
      "82: •Optimized the system for real-time data handling, advanced cell protection, and wireless updates, improving\n",
      "83: overall system efficiency by 30% and reducing maintenance time by 40%.\n",
      "84: ADDITIONAL INFORMATION & PROFESSIONAL DEVELOPMENT\n",
      "85: •Dual Citizenship: United States & Jordan\n",
      "86: •Bilingual proficiency in English and Arabic, and basic proficiency in Turkish\n",
      "87: •Soccer midfielder & mountain biker, interested in post-classical history and Oxford Union debates\n",
      "88: •PEARSON certified Smartphone developer\n"
     ]
    }
   ],
   "source": [
    "from chunking import chunk_sections\n",
    "\n",
    "lines = chunk_sections.parse_into_lines(pdf_text2)\n",
    "for i, line in enumerate(lines):\n",
    "    print(f\"{i}: {line}\")"
   ]
  },
  {
   "cell_type": "code",
   "execution_count": null,
   "metadata": {},
   "outputs": [],
   "source": []
  }
 ],
 "metadata": {
  "kernelspec": {
   "display_name": ".venv",
   "language": "python",
   "name": "python3"
  },
  "language_info": {
   "codemirror_mode": {
    "name": "ipython",
    "version": 3
   },
   "file_extension": ".py",
   "mimetype": "text/x-python",
   "name": "python",
   "nbconvert_exporter": "python",
   "pygments_lexer": "ipython3",
   "version": "3.12.2"
  }
 },
 "nbformat": 4,
 "nbformat_minor": 2
}
