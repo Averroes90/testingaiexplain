{
 "cells": [
  {
   "cell_type": "code",
   "execution_count": null,
   "id": "cc1a5d03",
   "metadata": {},
   "outputs": [],
   "source": [
    "from aixplain.factories import IndexFactory\n",
    "\n",
    "index = IndexFactory.get(\"67f598607fdf75001d758141\")\n",
    "count = index.count()\n",
    "print(count)"
   ]
  },
  {
   "cell_type": "code",
   "execution_count": null,
   "id": "7a0d4f9f",
   "metadata": {},
   "outputs": [],
   "source": [
    "import json\n",
    "import os\n",
    "import requests\n",
    "from dotenv import load_dotenv\n",
    "\n",
    "# Load the .env file\n",
    "load_dotenv()\n",
    "\n",
    "\n",
    "def search_data(text: str, category: str = None):\n",
    "    \"\"\"\n",
    "    Search the index based on the given category filter.\n",
    "    \"\"\"\n",
    "    api_key = os.getenv(\"AIXPLAIN_API_KEY\")\n",
    "    if not api_key:\n",
    "        raise ValueError(\n",
    "            \"API key not found. Make sure AIXPLAIN_API_KEY is set in the .env file.\"\n",
    "        )\n",
    "\n",
    "    headers = {\"x-api-key\": api_key, \"Content-Type\": \"application/json\"}\n",
    "\n",
    "    payload = {\n",
    "        \"action\": \"search\",\n",
    "        \"data\": text,\n",
    "        \"payload\": {\n",
    "            \"filters\": {\n",
    "                \"field\": \"meta.attributes.category\",\n",
    "                \"operator\": \"==\",\n",
    "                \"value\": category,\n",
    "            }\n",
    "        },\n",
    "    }\n",
    "\n",
    "    response = requests.post(\n",
    "        \"https://models.aixplain.com/api/v1/execute/67f598607fdf75001d758141\",\n",
    "        json=payload,\n",
    "        headers=headers,\n",
    "    )\n",
    "    return response"
   ]
  },
  {
   "cell_type": "code",
   "execution_count": 14,
   "id": "d6ac50e9",
   "metadata": {},
   "outputs": [
    {
     "name": "stdout",
     "output_type": "stream",
     "text": [
      "<Response [201]>\n"
     ]
    }
   ],
   "source": [
    "result = search_data(\n",
    "    \"search the data base for entries from the content column that might align with having 7+ years of recent hands-on coding, if no matches, just return what you find\",\n",
    "    \"resume-professional_experience\",\n",
    ")\n",
    "print(result)"
   ]
  },
  {
   "cell_type": "code",
   "execution_count": 32,
   "id": "10a9c283",
   "metadata": {},
   "outputs": [
    {
     "name": "stdout",
     "output_type": "stream",
     "text": [
      "<Response [201]>\n"
     ]
    }
   ],
   "source": [
    "result = search_data(\n",
    "    \"search the data base for entries from the content column that might align with having 7+ years of recent hands-on coding, if no matches, just return what you find\",\n",
    "    \"free-form\",\n",
    ")\n",
    "print(result)"
   ]
  },
  {
   "cell_type": "code",
   "execution_count": 15,
   "id": "0fe799dd",
   "metadata": {},
   "outputs": [
    {
     "name": "stdout",
     "output_type": "stream",
     "text": [
      "b'{\"completed\":false,\"data\":\"https://models.aixplain.com/api/v1/data/297b5e3e-0ce3-4331-a3ac-8eab3489d0e3\",\"requestId\":\"297b5e3e-0ce3-4331-a3ac-8eab3489d0e3\"}'\n"
     ]
    }
   ],
   "source": [
    "print(result.content)"
   ]
  },
  {
   "cell_type": "code",
   "execution_count": 21,
   "id": "2cf8e3c9",
   "metadata": {},
   "outputs": [],
   "source": [
    "def fetch_result_data(result: dict):\n",
    "    \"\"\"\n",
    "    If the initial result is incomplete but contains a link, follow it and return the real data.\n",
    "    \"\"\"\n",
    "    if result.get(\"completed\") is False and \"data\" in result:\n",
    "        url = result[\"data\"]\n",
    "        print(f\"📡 Fetching result from: {url}\")\n",
    "\n",
    "        api_key = os.getenv(\"AIXPLAIN_API_KEY\")\n",
    "        headers = {\"x-api-key\": api_key}\n",
    "\n",
    "        response = requests.get(url, headers=headers)\n",
    "\n",
    "        # Try to decode the actual data from response\n",
    "        try:\n",
    "            return response.json()\n",
    "        except Exception:\n",
    "            return response.text\n",
    "    return result"
   ]
  },
  {
   "cell_type": "code",
   "execution_count": 33,
   "id": "dde9cd8c",
   "metadata": {},
   "outputs": [
    {
     "name": "stdout",
     "output_type": "stream",
     "text": [
      "📡 Fetching result from: https://models.aixplain.com/api/v1/data/ddf72a8b-ee62-4510-8ae7-087a6875d12b\n",
      "{\n",
      "  \"details\": [\n",
      "    {\n",
      "      \"score\": 0.8710575,\n",
      "      \"data\": \"Learning how to code VB, Java, SQL, XML and\\nother languages, pursuing training in project management, and ultimately electing to pursue an MBA, I\\nhave eventually identified that through a role in consulting, I can most utilize my skill                                                                                  -set and have the\\ngreatest impact.\",\n",
      "      \"document\": \"Ibrahimi_Rami_McKinsey.pdf_132\",\n",
      "      \"metadata\": {\n",
      "        \"category\": \"free-form\"\n",
      "      }\n",
      "    },\n",
      "    {\n",
      "      \"score\": 0.869254025,\n",
      "      \"data\": \"Anxiously interested in news about a new device or innovation, I always wanted to be part of the teams bringing such great products to the world.\\n---\\nIn order to pursue my true passion, I have to transition into technology.\\n\\n---\\nCollege Extracurriculars and Employment \\u2013 200\\n-Co-founder and member of the support community for the exchange for supplemental academic material and organization of student-led support lectures/\\n---\\nIf you graduated from university more than ten (10) years ago, please simply list your activities for the past five (5) years.\\n---\\nWe responded to emergency situations in coordination with the Jordanian civil defense directorate during snowy conditions\\n-Middle East Political Debate Club\\nEvery weekend, I would meet-up with a group of close friends from school and college in one of the small coffee shops in downtown Amman.\\n---\\nWe would discuss and juxtapose our different political views about the latest developments in the region and what each of us thought is the best way to move forward.\\n\",\n",
      "      \"document\": \"Rami,_Darden_Misc2.docx_58\",\n",
      "      \"metadata\": {\n",
      "        \"category\": \"free-form\"\n",
      "      }\n",
      "    },\n",
      "    {\n",
      "      \"score\": 0.86545465,\n",
      "      \"data\": \"Aug 2009 - Jan 2013 \\n-Volunteer lecturing for Assembly Language & Microprocessors and Design of Embedded Systems support classes at the University of Jordan/ Jan 2012 \\u2013 Jul-2012\\n-Part time tutor at the family founded school - Scientific Reyada School/Jan 2008 - Jul 2011 \\n-Delegate at model united nations organized by Princess Sumayya University of Technology/ Summer 2012\\t\\nList up to three hobbies or interests you enjoy in your free time.\\n\\n---\\n(100 words)\\nIf you could go anywhere in the world with Darden, where would you go and why?\",\n",
      "      \"document\": \"Rami,_Darden_Misc2.docx_60\",\n",
      "      \"metadata\": {\n",
      "        \"category\": \"free-form\"\n",
      "      }\n",
      "    },\n",
      "    {\n",
      "      \"score\": 0.8635638,\n",
      "      \"data\": \"College Extracurriculars and Employment \\u2013 200 \\n-Co-founder and member of the support community for the exchage for supplemental academic material and organisation of student-led support lectures/\\n---\\nAug 2009 - Jan 2013 \\n-Volunteer lecturing for Assembly Language & Microprocessors and Design of Embedded Systems support classes at the University of Jordan/ Jan 2012\\n-Part time tutor at the family founded school - Scientific Reyada School/Jan 2008 - Jul 2011 \\n-Delegate at model united nations organized by Princess Sumayya University of Technology/ Summer 2012\\t\\nWhat is your short-term, post-MBA career goal and why?\\n---\\n(150 words)\\nPlease list the professional associations and community activities (clubs, faith-based, civic, etc.) in which you have participated since graduation from university.\\n---\\nIf you graduated from university\\u00a0more than ten (10) years ago, please simply list your activities for the past five (5) years.\\u00a0\",\n",
      "      \"document\": \"Rami,_Darden_Misc.docx_67\",\n",
      "      \"metadata\": {\n",
      "        \"category\": \"free-form\"\n",
      "      }\n",
      "    },\n",
      "    {\n",
      "      \"score\": 0.8616811,\n",
      "      \"data\": \"During this time, I completed a\\nbootcamp at Columbia Engineering, worked on self-driven projects like an AI-powered\\ntranscription tool with 20% improved accuracy, and advanced my expertise in frameworks\\nsuch as TensorFlow, PyTorch, and adversarial ML techniques.\\n---\\nThese projects reinforced my ability to\\ntranslate abstract ideas into impactful solutions.\\n\\n\\n---\\nThe intersection\\nof innovation, security, and collaboration is where I thrive, and I\\u2019m eager to contribute my\\ntechnical and program management expertise to help drive Microsoft\\u2019s mission of building\\nsafer AI systems.\\n\\n\",\n",
      "      \"document\": \"Ibrahimi_Rami_CL_Microsoft.pdf_106\",\n",
      "      \"metadata\": {\n",
      "        \"category\": \"free-form\"\n",
      "      }\n",
      "    },\n",
      "    {\n",
      "      \"score\": 0.8588324199999999,\n",
      "      \"data\": \"List up to three hobbies or interests you enjoy in your free time.\\n\",\n",
      "      \"document\": \"Rami,_Darden_Misc.docx_72\",\n",
      "      \"metadata\": {\n",
      "        \"category\": \"free-form\"\n",
      "      }\n",
      "    },\n",
      "    {\n",
      "      \"score\": 0.85832593,\n",
      "      \"data\": \"\\u2022AI for Content Creation: Explored the use of AI in automating the creation and enhancement\\nof digital assets, bridging technical innovation with user-centric design.\\n\\n\",\n",
      "      \"document\": \"Ibrahimi_Rami_CL_Roblox.pdf_124\",\n",
      "      \"metadata\": {\n",
      "        \"category\": \"free-form\"\n",
      "      }\n",
      "    },\n",
      "    {\n",
      "      \"score\": 0.8578163999999999,\n",
      "      \"data\": \"We struggled to keep up, especially given technical knowledge gaps in some areas. \\n\\n---\\nShortly thereafter, my supervisor called me for a meeting to discuss the progress and results.\\n---\\nHi highlighted my inability to get all the team members fully engaged in the project as a major weakness.\\n---\\nHe said that my career progress thus far was due to my analytical rigor and hard skills and what he perceived to be as a potential for growth and explained that in order to progress further I have to address this inadequacy.\\n---\\nFinally he noted his expectation for better results for the following month and offered to coach me throughout.\\n\",\n",
      "      \"document\": \"Rami,_Darden_E1.docx_10\",\n",
      "      \"metadata\": {\n",
      "        \"category\": \"free-form\"\n",
      "      }\n",
      "    },\n",
      "    {\n",
      "      \"score\": 0.85710825,\n",
      "      \"data\": \"(100 words)\\nI am a \\u2026 tech head, geek obsessed with jet aircraft and history \\u2026etc.\\n\",\n",
      "      \"document\": \"Rami,_Darden_Misc.docx_71\",\n",
      "      \"metadata\": {\n",
      "        \"category\": \"free-form\"\n",
      "      }\n",
      "    },\n",
      "    {\n",
      "      \"score\": 0.8570491650000001,\n",
      "      \"data\": \"This\\nrealization led me to upskill and reskill deliberately, completing an AI and Machine Learning\\nBootcamp at Columbia Engineering, where I gained hands-on experience with frameworks like\\nTensorFlow and PyTorch.\\n---\\nI complemented this formal learning with self-driven projects,\\nincluding the development of an AI-powered interface integrating multiple AI models and APIs.\\n\",\n",
      "      \"document\": \"Ibrahimi_Rami_CL_UBS.pdf_138\",\n",
      "      \"metadata\": {\n",
      "        \"category\": \"free-form\"\n",
      "      }\n",
      "    }\n",
      "  ],\n",
      "  \"status\": \"SUCCESS\",\n",
      "  \"completed\": true,\n",
      "  \"data\": \"Learning how to code VB, Java, SQL, XML and\\nother languages, pursuing training in project management, and ultimately electing to pursue an MBA, I\\nhave eventually identified that through a role in consulting, I can most utilize my skill                                                                                  -set and have the\\ngreatest impact.\",\n",
      "  \"runTime\": 0.885,\n",
      "  \"usedCredits\": 0.000162\n",
      "}\n"
     ]
    }
   ],
   "source": [
    "final_data = fetch_result_data(result.json())\n",
    "print(json.dumps(final_data, indent=2))"
   ]
  },
  {
   "cell_type": "code",
   "execution_count": 30,
   "id": "c3f16f10",
   "metadata": {},
   "outputs": [
    {
     "name": "stdout",
     "output_type": "stream",
     "text": [
      "{'completed': False, 'data': 'https://models.aixplain.com/api/v1/data/49ef09b0-0ebf-46ed-83ca-f951345c287c', 'requestId': '49ef09b0-0ebf-46ed-83ca-f951345c287c'}\n"
     ]
    }
   ],
   "source": [
    "result = search_data(\n",
    "    \"search the data base for entries from the content column that might align with this job description: Managed oversees third party team of data scientists\",\n",
    "    \"resume-professional_experience\",\n",
    ")\n",
    "print(result.json())"
   ]
  },
  {
   "cell_type": "code",
   "execution_count": 31,
   "id": "b61d06af",
   "metadata": {},
   "outputs": [
    {
     "name": "stdout",
     "output_type": "stream",
     "text": [
      "📡 Fetching result from: https://models.aixplain.com/api/v1/data/49ef09b0-0ebf-46ed-83ca-f951345c287c\n",
      "{\n",
      "  \"details\": [\n",
      "    {\n",
      "      \"score\": 0.8901667,\n",
      "      \"data\": \"2018-Present\\tGoogle LLC\\nProduct Operations T/ Program Manager \\u2013 Phones (2019-Present) Mountain View, CA\\nManaged oversees third party team of data scientists to deliver machine learning predictive models for return rates & manufacturing cell qualification resulting in reduction of 15% in qualification costs\\nCreated and executed new process for management of OpEx product costs in tandem with cross-regional team resulting in $3.5 million and $7 million in savings for Pixel 2020 and Pixel 2021\\nDrove product headcount resource management for 8 Pixel devices from concept through end of life\\nManaged non-device costs for Wearables business unit totaling $150 million annually\\nLed early engagement Product investigation and feature definition for a new segment Pixel device\\nHardware, Product Operations MBA Intern \\u2013 Phones (Summer 2018) Mountain View, CA\\nDesigned and implemented new process for Inventory Management Forum for next-gen flagship Pixel phones resulting in complete automation of the process and 80% reduction in work load\\nEstablished standard Key Part Release and Master Production Schedule model and input templates\\nCompletely revamped Clear to Build management process leading to strategic SKU-level visibility\\n2013-2017\\tPhilip Morris International\\nOperations Planning Analyst (2015-2017) Izmir, Turkey\\nSelected out of 50 candidates for leadership development assignment to the Turkish affiliate, the cluster head for EEMA region and the largest CPG in Turkey\\nDirected cross-functional domestic and international project team in successful resolution of a defective company-wide data mining and reporting tool in support of 40 production line operations representing annual volume of 70 billion sticks Led cross functional effort across five teams to successfully launch the first product export project for 23 new products across eight new African markets representing 15% of annual volume\\nSupervised the operations team for the revamp of seven strategic products including Marlboro and L&M brands achieving 100% hit rate for in-market-sales timeline requirements\\nProcess Engineer (2014-2015) Amman, Jordan\\nLed two five-person teams on two production facility operations improvement projects setting four new all-time records and achieving recognition for two key performance indicators\\nInitiated factory inventory management and categorization process for spare parts and raw materials resulting in the reduction local spare parts inventory by $1 million representing 40% of total inventory; received Philip Morris International Above and Beyond the Call of Duty award\\nElectrical Maintenance Engineer (2013-2014) Amman, Jordan\\nDesigned and installed of track and trace weight measurement system\",\n",
      "      \"document\": \"Ibrahimi_Rami_120722.docx_3\",\n",
      "      \"metadata\": {\n",
      "        \"category\": \"resume-professional_experience\"\n",
      "      }\n",
      "    }\n",
      "  ],\n",
      "  \"status\": \"SUCCESS\",\n",
      "  \"completed\": true,\n",
      "  \"data\": \"2018-Present\\tGoogle LLC\\nProduct Operations T/ Program Manager \\u2013 Phones (2019-Present) Mountain View, CA\\nManaged oversees third party team of data scientists to deliver machine learning predictive models for return rates & manufacturing cell qualification resulting in reduction of 15% in qualification costs\\nCreated and executed new process for management of OpEx product costs in tandem with cross-regional team resulting in $3.5 million and $7 million in savings for Pixel 2020 and Pixel 2021\\nDrove product headcount resource management for 8 Pixel devices from concept through end of life\\nManaged non-device costs for Wearables business unit totaling $150 million annually\\nLed early engagement Product investigation and feature definition for a new segment Pixel device\\nHardware, Product Operations MBA Intern \\u2013 Phones (Summer 2018) Mountain View, CA\\nDesigned and implemented new process for Inventory Management Forum for next-gen flagship Pixel phones resulting in complete automation of the process and 80% reduction in work load\\nEstablished standard Key Part Release and Master Production Schedule model and input templates\\nCompletely revamped Clear to Build management process leading to strategic SKU-level visibility\\n2013-2017\\tPhilip Morris International\\nOperations Planning Analyst (2015-2017) Izmir, Turkey\\nSelected out of 50 candidates for leadership development assignment to the Turkish affiliate, the cluster head for EEMA region and the largest CPG in Turkey\\nDirected cross-functional domestic and international project team in successful resolution of a defective company-wide data mining and reporting tool in support of 40 production line operations representing annual volume of 70 billion sticks Led cross functional effort across five teams to successfully launch the first product export project for 23 new products across eight new African markets representing 15% of annual volume\\nSupervised the operations team for the revamp of seven strategic products including Marlboro and L&M brands achieving 100% hit rate for in-market-sales timeline requirements\\nProcess Engineer (2014-2015) Amman, Jordan\\nLed two five-person teams on two production facility operations improvement projects setting four new all-time records and achieving recognition for two key performance indicators\\nInitiated factory inventory management and categorization process for spare parts and raw materials resulting in the reduction local spare parts inventory by $1 million representing 40% of total inventory; received Philip Morris International Above and Beyond the Call of Duty award\\nElectrical Maintenance Engineer (2013-2014) Amman, Jordan\\nDesigned and installed of track and trace weight measurement system\",\n",
      "  \"runTime\": 0.77,\n",
      "  \"usedCredits\": 0.000153\n",
      "}\n"
     ]
    }
   ],
   "source": [
    "final_data = fetch_result_data(result.json())\n",
    "print(json.dumps(final_data, indent=2))"
   ]
  },
  {
   "cell_type": "code",
   "execution_count": null,
   "id": "acd086ff",
   "metadata": {},
   "outputs": [],
   "source": []
  }
 ],
 "metadata": {
  "kernelspec": {
   "display_name": ".venv",
   "language": "python",
   "name": "python3"
  },
  "language_info": {
   "codemirror_mode": {
    "name": "ipython",
    "version": 3
   },
   "file_extension": ".py",
   "mimetype": "text/x-python",
   "name": "python",
   "nbconvert_exporter": "python",
   "pygments_lexer": "ipython3",
   "version": "3.12.2"
  }
 },
 "nbformat": 4,
 "nbformat_minor": 5
}
